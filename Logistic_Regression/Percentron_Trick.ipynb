{
 "cells": [
  {
   "cell_type": "markdown",
   "id": "02483071",
   "metadata": {},
   "source": [
    "# Percentron method"
   ]
  },
  {
   "cell_type": "code",
   "execution_count": 1,
   "id": "44664459",
   "metadata": {},
   "outputs": [],
   "source": [
    "import pandas as pd\n",
    "import numpy as np\n",
    "import matplotlib.pyplot as plt\n",
    "from sklearn.model_selection import train_test_split\n",
    "from sklearn.linear_model import LinearRegression,LogisticRegression\n",
    "from sklearn.metrics import r2_score,mean_absolute_error,mean_squared_error\n",
    "from sklearn.preprocessing import PolynomialFeatures,StandardScaler\n",
    "from sklearn.datasets import make_classification"
   ]
  },
  {
   "cell_type": "code",
   "execution_count": 2,
   "id": "04aee854",
   "metadata": {},
   "outputs": [],
   "source": [
    "x,y = make_classification(n_samples = 100,n_features = 2, n_informative = 1,n_redundant = 0,n_classes = 2,n_clusters_per_class=1,random_state = 41 ,hypercube = False,class_sep=10 )"
   ]
  },
  {
   "cell_type": "code",
   "execution_count": 3,
   "id": "4da15d3d",
   "metadata": {},
   "outputs": [
    {
     "data": {
      "text/plain": [
       "(100, 2)"
      ]
     },
     "execution_count": 3,
     "metadata": {},
     "output_type": "execute_result"
    }
   ],
   "source": [
    "x.shape"
   ]
  },
  {
   "cell_type": "code",
   "execution_count": 4,
   "id": "1dce3423",
   "metadata": {},
   "outputs": [
    {
     "data": {
      "text/plain": [
       "(100,)"
      ]
     },
     "execution_count": 4,
     "metadata": {},
     "output_type": "execute_result"
    }
   ],
   "source": [
    "y.shape"
   ]
  },
  {
   "cell_type": "code",
   "execution_count": 5,
   "id": "8fcd73e5",
   "metadata": {},
   "outputs": [
    {
     "data": {
      "text/plain": [
       "<matplotlib.collections.PathCollection at 0x1d7b3ec4610>"
      ]
     },
     "execution_count": 5,
     "metadata": {},
     "output_type": "execute_result"
    },
    {
     "data": {
      "image/png": "[encoded data removed]",
      "text/plain": [
       "<Figure size 432x288 with 1 Axes>"
      ]
     },
     "metadata": {
      "needs_background": "light"
     },
     "output_type": "display_data"
    }
   ],
   "source": [
    "plt.scatter(x[:,0],x[:,1],c = y, cmap = 'winter',s = 100)"
   ]
  },
  {
   "cell_type": "code",
   "execution_count": 6,
   "id": "df9293ba",
   "metadata": {},
   "outputs": [
    {
     "data": {
      "text/plain": [
       "array([[ 0.19924745, -0.11697552],\n",
       "       [-0.24882029, -0.73115232],\n",
       "       [-0.3544904 , -0.7081059 ],\n",
       "       [-1.59086506, -2.01199214],\n",
       "       [-0.20083951,  1.63493163],\n",
       "       [-0.83241122,  0.15599044],\n",
       "       [-1.79207014,  1.07782053],\n",
       "       [ 0.0856607 ,  0.80626713],\n",
       "       [-0.55865299,  0.74859527],\n",
       "       [-1.95974262,  0.75152794],\n",
       "       [-1.77828947, -0.90114581],\n",
       "       [-1.77985853, -0.1815243 ],\n",
       "       [-0.02194151, -2.98092432],\n",
       "       [ 0.80563431,  1.20500136],\n",
       "       [-1.82701214,  0.78302407],\n",
       "       [ 0.38730728,  0.42968688],\n",
       "       [-0.14108668, -0.73229726],\n",
       "       [-1.87955941, -0.83930476],\n",
       "       [-0.18232911,  0.83727062],\n",
       "       [-1.77059533, -0.10255323],\n",
       "       [-2.27658028,  0.65867001],\n",
       "       [-2.06519502,  0.92649819],\n",
       "       [-1.31690551,  0.10216193],\n",
       "       [ 1.61043259,  0.46886454],\n",
       "       [-1.21650394,  0.45432938],\n",
       "       [ 0.6139723 ,  1.8613386 ],\n",
       "       [-1.78760957, -0.79255991],\n",
       "       [-1.04149161, -1.0004391 ],\n",
       "       [-2.40067584, -0.53814137],\n",
       "       [-1.80383452,  0.44027716],\n",
       "       [-1.44075613,  0.27047889],\n",
       "       [ 1.34989978, -0.75869267],\n",
       "       [ 0.22520167,  0.6802322 ],\n",
       "       [ 0.53688527,  0.17018845],\n",
       "       [ 0.55483459, -1.01121977],\n",
       "       [-0.32178185, -0.8394709 ],\n",
       "       [-0.98821248,  0.90327412],\n",
       "       [ 0.67394805,  1.16981747],\n",
       "       [-1.60913592,  0.53461406],\n",
       "       [ 0.75727194, -0.22100631],\n",
       "       [-1.32591376, -0.64584571],\n",
       "       [-0.91783293,  0.21243302],\n",
       "       [-1.35578147,  0.98654083],\n",
       "       [ 1.46869659,  0.67382928],\n",
       "       [-0.80540713, -0.11323563],\n",
       "       [ 1.08059816,  0.91694693],\n",
       "       [ 0.14667326,  0.3645213 ],\n",
       "       [-1.37324548, -0.78470874],\n",
       "       [-1.09742089, -1.48004137],\n",
       "       [-0.92017476,  0.72931763],\n",
       "       [ 0.22020513, -0.60000139],\n",
       "       [-0.3515292 ,  0.14720034],\n",
       "       [-1.42135667,  0.35215601],\n",
       "       [ 0.94415309,  0.17388705],\n",
       "       [ 2.14488191, -0.17162755],\n",
       "       [-1.52699536,  0.03763193],\n",
       "       [ 1.0347932 ,  0.48360467],\n",
       "       [-2.05551135, -0.07909256],\n",
       "       [-1.33241395,  0.06158897],\n",
       "       [-0.10615042, -1.20413846],\n",
       "       [ 0.89910594,  0.77324391],\n",
       "       [-1.32152694,  0.7640092 ],\n",
       "       [-1.96489671,  1.57200032],\n",
       "       [ 0.97099786,  0.47296516],\n",
       "       [ 0.0520771 ,  0.0642074 ],\n",
       "       [-0.66393984,  1.52469135],\n",
       "       [-1.8937672 , -2.1450828 ],\n",
       "       [ 0.5941446 , -0.7701428 ],\n",
       "       [-1.55261523,  0.84455766],\n",
       "       [-0.9998803 ,  1.29753064],\n",
       "       [-2.39664251, -0.84276652],\n",
       "       [ 0.27537438,  2.0615874 ],\n",
       "       [ 1.0723376 , -0.3036533 ],\n",
       "       [-1.4577388 , -0.1656085 ],\n",
       "       [ 1.06667457,  1.16969713],\n",
       "       [ 0.67498344, -0.3038555 ],\n",
       "       [-2.18254559, -0.4788978 ],\n",
       "       [ 0.96395115,  0.28128262],\n",
       "       [-1.3155857 ,  0.70412341],\n",
       "       [ 0.7158603 ,  0.3757601 ],\n",
       "       [-0.16186654,  0.97247545],\n",
       "       [ 1.341869  ,  0.56868381],\n",
       "       [-1.46023043, -0.39767934],\n",
       "       [ 1.37645492, -1.08933729],\n",
       "       [-0.35770727, -1.81663939],\n",
       "       [-1.8640534 ,  1.41775924],\n",
       "       [-1.7826468 ,  0.27098296],\n",
       "       [-1.18927817, -0.56186639],\n",
       "       [ 0.26654845,  0.42168159],\n",
       "       [-1.28809059, -2.95373116],\n",
       "       [ 0.75163482,  0.19492133],\n",
       "       [ 1.16254252, -0.04578681],\n",
       "       [-1.15890056, -0.18860967],\n",
       "       [-1.48693688,  0.44635682],\n",
       "       [ 0.75292818, -1.49814775],\n",
       "       [-2.12332717,  0.66198774],\n",
       "       [-1.53599817,  0.07153265],\n",
       "       [-1.46034714,  0.32323638],\n",
       "       [ 0.83626582, -0.34574201],\n",
       "       [-0.26570627,  0.06499922]])"
      ]
     },
     "execution_count": 6,
     "metadata": {},
     "output_type": "execute_result"
    }
   ],
   "source": [
    "x"
   ]
  },
  {
   "cell_type": "code",
   "execution_count": 7,
   "id": "2bf02ed0",
   "metadata": {},
   "outputs": [],
   "source": [
    "x1 = np.insert(x,0,1,axis = 1)"
   ]
  },
  {
   "cell_type": "code",
   "execution_count": 8,
   "id": "43a4f8f0",
   "metadata": {},
   "outputs": [
    {
     "data": {
      "text/plain": [
       "array([[ 1.        ,  0.19924745, -0.11697552],\n",
       "       [ 1.        , -0.24882029, -0.73115232],\n",
       "       [ 1.        , -0.3544904 , -0.7081059 ],\n",
       "       [ 1.        , -1.59086506, -2.01199214],\n",
       "       [ 1.        , -0.20083951,  1.63493163],\n",
       "       [ 1.        , -0.83241122,  0.15599044],\n",
       "       [ 1.        , -1.79207014,  1.07782053],\n",
       "       [ 1.        ,  0.0856607 ,  0.80626713],\n",
       "       [ 1.        , -0.55865299,  0.74859527],\n",
       "       [ 1.        , -1.95974262,  0.75152794],\n",
       "       [ 1.        , -1.77828947, -0.90114581],\n",
       "       [ 1.        , -1.77985853, -0.1815243 ],\n",
       "       [ 1.        , -0.02194151, -2.98092432],\n",
       "       [ 1.        ,  0.80563431,  1.20500136],\n",
       "       [ 1.        , -1.82701214,  0.78302407],\n",
       "       [ 1.        ,  0.38730728,  0.42968688],\n",
       "       [ 1.        , -0.14108668, -0.73229726],\n",
       "       [ 1.        , -1.87955941, -0.83930476],\n",
       "       [ 1.        , -0.18232911,  0.83727062],\n",
       "       [ 1.        , -1.77059533, -0.10255323],\n",
       "       [ 1.        , -2.27658028,  0.65867001],\n",
       "       [ 1.        , -2.06519502,  0.92649819],\n",
       "       [ 1.        , -1.31690551,  0.10216193],\n",
       "       [ 1.        ,  1.61043259,  0.46886454],\n",
       "       [ 1.        , -1.21650394,  0.45432938],\n",
       "       [ 1.        ,  0.6139723 ,  1.8613386 ],\n",
       "       [ 1.        , -1.78760957, -0.79255991],\n",
       "       [ 1.        , -1.04149161, -1.0004391 ],\n",
       "       [ 1.        , -2.40067584, -0.53814137],\n",
       "       [ 1.        , -1.80383452,  0.44027716],\n",
       "       [ 1.        , -1.44075613,  0.27047889],\n",
       "       [ 1.        ,  1.34989978, -0.75869267],\n",
       "       [ 1.        ,  0.22520167,  0.6802322 ],\n",
       "       [ 1.        ,  0.53688527,  0.17018845],\n",
       "       [ 1.        ,  0.55483459, -1.01121977],\n",
       "       [ 1.        , -0.32178185, -0.8394709 ],\n",
       "       [ 1.        , -0.98821248,  0.90327412],\n",
       "       [ 1.        ,  0.67394805,  1.16981747],\n",
       "       [ 1.        , -1.60913592,  0.53461406],\n",
       "       [ 1.        ,  0.75727194, -0.22100631],\n",
       "       [ 1.        , -1.32591376, -0.64584571],\n",
       "       [ 1.        , -0.91783293,  0.21243302],\n",
       "       [ 1.        , -1.35578147,  0.98654083],\n",
       "       [ 1.        ,  1.46869659,  0.67382928],\n",
       "       [ 1.        , -0.80540713, -0.11323563],\n",
       "       [ 1.        ,  1.08059816,  0.91694693],\n",
       "       [ 1.        ,  0.14667326,  0.3645213 ],\n",
       "       [ 1.        , -1.37324548, -0.78470874],\n",
       "       [ 1.        , -1.09742089, -1.48004137],\n",
       "       [ 1.        , -0.92017476,  0.72931763],\n",
       "       [ 1.        ,  0.22020513, -0.60000139],\n",
       "       [ 1.        , -0.3515292 ,  0.14720034],\n",
       "       [ 1.        , -1.42135667,  0.35215601],\n",
       "       [ 1.        ,  0.94415309,  0.17388705],\n",
       "       [ 1.        ,  2.14488191, -0.17162755],\n",
       "       [ 1.        , -1.52699536,  0.03763193],\n",
       "       [ 1.        ,  1.0347932 ,  0.48360467],\n",
       "       [ 1.        , -2.05551135, -0.07909256],\n",
       "       [ 1.        , -1.33241395,  0.06158897],\n",
       "       [ 1.        , -0.10615042, -1.20413846],\n",
       "       [ 1.        ,  0.89910594,  0.77324391],\n",
       "       [ 1.        , -1.32152694,  0.7640092 ],\n",
       "       [ 1.        , -1.96489671,  1.57200032],\n",
       "       [ 1.        ,  0.97099786,  0.47296516],\n",
       "       [ 1.        ,  0.0520771 ,  0.0642074 ],\n",
       "       [ 1.        , -0.66393984,  1.52469135],\n",
       "       [ 1.        , -1.8937672 , -2.1450828 ],\n",
       "       [ 1.        ,  0.5941446 , -0.7701428 ],\n",
       "       [ 1.        , -1.55261523,  0.84455766],\n",
       "       [ 1.        , -0.9998803 ,  1.29753064],\n",
       "       [ 1.        , -2.39664251, -0.84276652],\n",
       "       [ 1.        ,  0.27537438,  2.0615874 ],\n",
       "       [ 1.        ,  1.0723376 , -0.3036533 ],\n",
       "       [ 1.        , -1.4577388 , -0.1656085 ],\n",
       "       [ 1.        ,  1.06667457,  1.16969713],\n",
       "       [ 1.        ,  0.67498344, -0.3038555 ],\n",
       "       [ 1.        , -2.18254559, -0.4788978 ],\n",
       "       [ 1.        ,  0.96395115,  0.28128262],\n",
       "       [ 1.        , -1.3155857 ,  0.70412341],\n",
       "       [ 1.        ,  0.7158603 ,  0.3757601 ],\n",
       "       [ 1.        , -0.16186654,  0.97247545],\n",
       "       [ 1.        ,  1.341869  ,  0.56868381],\n",
       "       [ 1.        , -1.46023043, -0.39767934],\n",
       "       [ 1.        ,  1.37645492, -1.08933729],\n",
       "       [ 1.        , -0.35770727, -1.81663939],\n",
       "       [ 1.        , -1.8640534 ,  1.41775924],\n",
       "       [ 1.        , -1.7826468 ,  0.27098296],\n",
       "       [ 1.        , -1.18927817, -0.56186639],\n",
       "       [ 1.        ,  0.26654845,  0.42168159],\n",
       "       [ 1.        , -1.28809059, -2.95373116],\n",
       "       [ 1.        ,  0.75163482,  0.19492133],\n",
       "       [ 1.        ,  1.16254252, -0.04578681],\n",
       "       [ 1.        , -1.15890056, -0.18860967],\n",
       "       [ 1.        , -1.48693688,  0.44635682],\n",
       "       [ 1.        ,  0.75292818, -1.49814775],\n",
       "       [ 1.        , -2.12332717,  0.66198774],\n",
       "       [ 1.        , -1.53599817,  0.07153265],\n",
       "       [ 1.        , -1.46034714,  0.32323638],\n",
       "       [ 1.        ,  0.83626582, -0.34574201],\n",
       "       [ 1.        , -0.26570627,  0.06499922]])"
      ]
     },
     "execution_count": 8,
     "metadata": {},
     "output_type": "execute_result"
    }
   ],
   "source": [
    "x1"
   ]
  },
  {
   "cell_type": "code",
   "execution_count": 9,
   "id": "dab201ef",
   "metadata": {},
   "outputs": [
    {
     "data": {
      "text/plain": [
       "(100, 3)"
      ]
     },
     "execution_count": 9,
     "metadata": {},
     "output_type": "execute_result"
    }
   ],
   "source": [
    "x1.shape"
   ]
  },
  {
   "cell_type": "code",
   "execution_count": 10,
   "id": "99f40bdf",
   "metadata": {},
   "outputs": [
    {
     "data": {
      "text/plain": [
       "3"
      ]
     },
     "execution_count": 10,
     "metadata": {},
     "output_type": "execute_result"
    }
   ],
   "source": [
    "x1.shape[1]"
   ]
  },
  {
   "cell_type": "code",
   "execution_count": 11,
   "id": "a1748afe",
   "metadata": {},
   "outputs": [],
   "source": [
    "weight = np.ones(x1.shape[1])"
   ]
  },
  {
   "cell_type": "code",
   "execution_count": 12,
   "id": "bc7b52b7",
   "metadata": {},
   "outputs": [
    {
     "data": {
      "text/plain": [
       "array([1., 1., 1.])"
      ]
     },
     "execution_count": 12,
     "metadata": {},
     "output_type": "execute_result"
    }
   ],
   "source": [
    "weight"
   ]
  },
  {
   "cell_type": "code",
   "execution_count": 13,
   "id": "f4048ac7",
   "metadata": {},
   "outputs": [
    {
     "name": "stdout",
     "output_type": "stream",
     "text": [
      "8\n"
     ]
    }
   ],
   "source": [
    "j = np.random.randint(0,100)\n",
    "print(j)"
   ]
  },
  {
   "cell_type": "code",
   "execution_count": 14,
   "id": "67895faa",
   "metadata": {},
   "outputs": [],
   "source": [
    "def step(z):\n",
    "    return 1 if z>0 else 0"
   ]
  },
  {
   "cell_type": "code",
   "execution_count": 15,
   "id": "51405cb5",
   "metadata": {},
   "outputs": [],
   "source": [
    "def perceptron(a,b):\n",
    "    \n",
    "    a = np.insert(a,0,1, axis = 1)\n",
    "    weight = np.ones(a.shape[1])\n",
    "    lr = 0.1\n",
    "    \n",
    "    for i in range(1000):\n",
    "        j = np.random.randint(0,100) # because 100 rows is there \n",
    "        y_pred = step(np.dot(a[j],weight))\n",
    "        weight  = weight + lr*(y[j] - y_pred)*a[j]\n",
    "        \n",
    "    return weight[0],weight[1:]"
   ]
  },
  {
   "cell_type": "code",
   "execution_count": 16,
   "id": "62c13641",
   "metadata": {},
   "outputs": [],
   "source": [
    "intercept_,coef_ = perceptron(x,y)"
   ]
  },
  {
   "cell_type": "code",
   "execution_count": 17,
   "id": "be140f64",
   "metadata": {},
   "outputs": [],
   "source": [
    "m=-(coef_[0]/coef_[1])\n",
    "b=-(intercept_/coef_[1])"
   ]
  },
  {
   "cell_type": "code",
   "execution_count": 18,
   "id": "9419919e",
   "metadata": {},
   "outputs": [
    {
     "name": "stdout",
     "output_type": "stream",
     "text": [
      "-21.2944635419893\n",
      "-12.961154769599105\n"
     ]
    }
   ],
   "source": [
    "print(m)\n",
    "print(b)"
   ]
  },
  {
   "cell_type": "code",
   "execution_count": 19,
   "id": "bc2b5f5e",
   "metadata": {},
   "outputs": [
    {
     "data": {
      "text/plain": [
       "array([-3.        , -2.93939394, -2.87878788, -2.81818182, -2.75757576,\n",
       "       -2.6969697 , -2.63636364, -2.57575758, -2.51515152, -2.45454545,\n",
       "       -2.39393939, -2.33333333, -2.27272727, -2.21212121, -2.15151515,\n",
       "       -2.09090909, -2.03030303, -1.96969697, -1.90909091, -1.84848485,\n",
       "       -1.78787879, -1.72727273, -1.66666667, -1.60606061, -1.54545455,\n",
       "       -1.48484848, -1.42424242, -1.36363636, -1.3030303 , -1.24242424,\n",
       "       -1.18181818, -1.12121212, -1.06060606, -1.        , -0.93939394,\n",
       "       -0.87878788, -0.81818182, -0.75757576, -0.6969697 , -0.63636364,\n",
       "       -0.57575758, -0.51515152, -0.45454545, -0.39393939, -0.33333333,\n",
       "       -0.27272727, -0.21212121, -0.15151515, -0.09090909, -0.03030303,\n",
       "        0.03030303,  0.09090909,  0.15151515,  0.21212121,  0.27272727,\n",
       "        0.33333333,  0.39393939,  0.45454545,  0.51515152,  0.57575758,\n",
       "        0.63636364,  0.6969697 ,  0.75757576,  0.81818182,  0.87878788,\n",
       "        0.93939394,  1.        ,  1.06060606,  1.12121212,  1.18181818,\n",
       "        1.24242424,  1.3030303 ,  1.36363636,  1.42424242,  1.48484848,\n",
       "        1.54545455,  1.60606061,  1.66666667,  1.72727273,  1.78787879,\n",
       "        1.84848485,  1.90909091,  1.96969697,  2.03030303,  2.09090909,\n",
       "        2.15151515,  2.21212121,  2.27272727,  2.33333333,  2.39393939,\n",
       "        2.45454545,  2.51515152,  2.57575758,  2.63636364,  2.6969697 ,\n",
       "        2.75757576,  2.81818182,  2.87878788,  2.93939394,  3.        ])"
      ]
     },
     "execution_count": 19,
     "metadata": {},
     "output_type": "execute_result"
    }
   ],
   "source": [
    "np.linspace(-3,3,100)"
   ]
  },
  {
   "cell_type": "code",
   "execution_count": 20,
   "id": "8005e781",
   "metadata": {},
   "outputs": [],
   "source": [
    "x_input = np.linspace(-3,3,100)\n",
    "y_input = m*x_input + b"
   ]
  },
  {
   "cell_type": "code",
   "execution_count": 21,
   "id": "8dead3b3",
   "metadata": {},
   "outputs": [
    {
     "data": {
      "text/plain": [
       "(-4.0, 3.0)"
      ]
     },
     "execution_count": 21,
     "metadata": {},
     "output_type": "execute_result"
    },
    {
     "data": {
      "image/png": "[encoded data removed]",
      "text/plain": [
       "<Figure size 432x288 with 1 Axes>"
      ]
     },
     "metadata": {
      "needs_background": "light"
     },
     "output_type": "display_data"
    }
   ],
   "source": [
    "plt.scatter(x[:,0],x[:,1],c = y, cmap = 'winter',s = 100)\n",
    "plt.plot(x_input,y_input)\n",
    "plt.ylim(-4,3)"
   ]
  },
  {
   "cell_type": "markdown",
   "id": "2901d852",
   "metadata": {},
   "source": [
    "# SKlearn method"
   ]
  },
  {
   "cell_type": "code",
   "execution_count": 22,
   "id": "65a0a467",
   "metadata": {},
   "outputs": [],
   "source": [
    "log = LogisticRegression()"
   ]
  },
  {
   "cell_type": "code",
   "execution_count": 23,
   "id": "6d6fab5e",
   "metadata": {},
   "outputs": [
    {
     "data": {
      "text/plain": [
       "LogisticRegression()"
      ]
     },
     "execution_count": 23,
     "metadata": {},
     "output_type": "execute_result"
    }
   ],
   "source": [
    "log.fit(x,y)"
   ]
  },
  {
   "cell_type": "code",
   "execution_count": 24,
   "id": "bf78e5d0",
   "metadata": {},
   "outputs": [
    {
     "data": {
      "text/plain": [
       "array([[3.50204668, 0.02749943]])"
      ]
     },
     "execution_count": 24,
     "metadata": {},
     "output_type": "execute_result"
    }
   ],
   "source": [
    "log.coef_"
   ]
  },
  {
   "cell_type": "code",
   "execution_count": 25,
   "id": "ede35d7c",
   "metadata": {},
   "outputs": [
    {
     "data": {
      "text/plain": [
       "3.5020466830877757"
      ]
     },
     "execution_count": 25,
     "metadata": {},
     "output_type": "execute_result"
    }
   ],
   "source": [
    "log.coef_[0][0]"
   ]
  },
  {
   "cell_type": "code",
   "execution_count": 26,
   "id": "bdac3e4d",
   "metadata": {},
   "outputs": [
    {
     "data": {
      "text/plain": [
       "0.027499428925365936"
      ]
     },
     "execution_count": 26,
     "metadata": {},
     "output_type": "execute_result"
    }
   ],
   "source": [
    "log.coef_[0][1]"
   ]
  },
  {
   "cell_type": "code",
   "execution_count": 27,
   "id": "49278606",
   "metadata": {},
   "outputs": [],
   "source": [
    "m = -(log.coef_[0][0]/log.coef_[0][1])\n",
    "b = -(log.intercept_/log.coef_[0][1])"
   ]
  },
  {
   "cell_type": "code",
   "execution_count": 28,
   "id": "4944bc6a",
   "metadata": {},
   "outputs": [],
   "source": [
    "x_input1 = np.linspace(-3,3,100)\n",
    "y_input1 = m*x_input + b"
   ]
  },
  {
   "cell_type": "code",
   "execution_count": 29,
   "id": "0ae40df2",
   "metadata": {},
   "outputs": [
    {
     "data": {
      "text/plain": [
       "(-4.0, 3.0)"
      ]
     },
     "execution_count": 29,
     "metadata": {},
     "output_type": "execute_result"
    },
    {
     "data": {
      "image/png": "[encoded data removed]",
      "text/plain": [
       "<Figure size 432x288 with 1 Axes>"
      ]
     },
     "metadata": {
      "needs_background": "light"
     },
     "output_type": "display_data"
    }
   ],
   "source": [
    "plt.scatter(x[:,0],x[:,1],c = y, cmap = 'winter',s = 100)\n",
    "plt.plot(x_input,y_input)\n",
    "plt.plot(x_input1,y_input1)\n",
    "\n",
    "plt.ylim(-4,3)\n"
   ]
  },
  {
   "cell_type": "markdown",
   "id": "293e3667",
   "metadata": {},
   "source": [
    "# Sigmoid_funtion"
   ]
  },
  {
   "cell_type": "code",
   "execution_count": 55,
   "id": "f67a3e51",
   "metadata": {},
   "outputs": [],
   "source": [
    "def pcts(c,d):\n",
    "    \n",
    "    c = np.insert(c,0,1,axis=1)\n",
    "    weight = np.ones(c.shape[1])\n",
    "    lr = 0.1\n",
    "    \n",
    "    for i in range(1000):\n",
    "        j = np.random.randint(0,100)\n",
    "        y_hat = sigmoid(np.dot(c[j],weight))\n",
    "        weight = weight + lr*(y[j]-y_hat)*c[j]\n",
    "        \n",
    "    return weight[0],weight[1:]"
   ]
  },
  {
   "cell_type": "code",
   "execution_count": 56,
   "id": "9615a380",
   "metadata": {},
   "outputs": [],
   "source": [
    "def sigmoid(z):\n",
    "    return 1/(1+np.exp(-z))\n"
   ]
  },
  {
   "cell_type": "code",
   "execution_count": 57,
   "id": "ac72b653",
   "metadata": {},
   "outputs": [
    {
     "data": {
      "text/plain": [
       "(2,)"
      ]
     },
     "execution_count": 57,
     "metadata": {},
     "output_type": "execute_result"
    }
   ],
   "source": [
    "x[46].shape"
   ]
  },
  {
   "cell_type": "code",
   "execution_count": 58,
   "id": "587eb966",
   "metadata": {},
   "outputs": [],
   "source": [
    "x2 = np.insert(x,0,1,axis = 1)\n",
    "weight = np.ones(x2.shape[1])"
   ]
  },
  {
   "cell_type": "code",
   "execution_count": 59,
   "id": "02773c48",
   "metadata": {},
   "outputs": [
    {
     "data": {
      "text/plain": [
       "(100, 3)"
      ]
     },
     "execution_count": 59,
     "metadata": {},
     "output_type": "execute_result"
    }
   ],
   "source": [
    "x2.shape"
   ]
  },
  {
   "cell_type": "code",
   "execution_count": 60,
   "id": "5c0e35e2",
   "metadata": {},
   "outputs": [
    {
     "data": {
      "text/plain": [
       "(100, 3)"
      ]
     },
     "execution_count": 60,
     "metadata": {},
     "output_type": "execute_result"
    }
   ],
   "source": [
    "x2.shape"
   ]
  },
  {
   "cell_type": "code",
   "execution_count": 61,
   "id": "73e64211",
   "metadata": {},
   "outputs": [
    {
     "data": {
      "text/plain": [
       "array([1., 1., 1.])"
      ]
     },
     "execution_count": 61,
     "metadata": {},
     "output_type": "execute_result"
    }
   ],
   "source": [
    "weight"
   ]
  },
  {
   "cell_type": "code",
   "execution_count": 62,
   "id": "2d535da7",
   "metadata": {},
   "outputs": [],
   "source": [
    "intercept_,coef_ = pcts(x,y)"
   ]
  },
  {
   "cell_type": "code",
   "execution_count": 64,
   "id": "c0bc271a",
   "metadata": {},
   "outputs": [
    {
     "name": "stdout",
     "output_type": "stream",
     "text": [
      "2.685029141373014\n",
      "[4.46435595 0.14952261]\n"
     ]
    }
   ],
   "source": [
    "print(intercept_)\n",
    "print(coef_ )"
   ]
  },
  {
   "cell_type": "code",
   "execution_count": 66,
   "id": "1e949344",
   "metadata": {},
   "outputs": [
    {
     "name": "stdout",
     "output_type": "stream",
     "text": [
      "-29.857396681207483\n",
      "-17.95734502442669\n"
     ]
    }
   ],
   "source": [
    "m = -(coef_[0]/coef_[1])\n",
    "b = -(intercept_/coef_[1])\n",
    "print(m)\n",
    "print(b)"
   ]
  },
  {
   "cell_type": "code",
   "execution_count": 68,
   "id": "1bb84e32",
   "metadata": {},
   "outputs": [],
   "source": [
    "x_input2 = np.linspace(-3,3,100)\n",
    "y_input2 = m*x_input +b"
   ]
  },
  {
   "cell_type": "code",
   "execution_count": 70,
   "id": "3736069c",
   "metadata": {},
   "outputs": [
    {
     "data": {
      "text/plain": [
       "(-4.0, 3.0)"
      ]
     },
     "execution_count": 70,
     "metadata": {},
     "output_type": "execute_result"
    },
    {
     "data": {
      "image/png": "[encoded data removed]",
      "text/plain": [
       "<Figure size 1440x720 with 1 Axes>"
      ]
     },
     "metadata": {
      "needs_background": "light"
     },
     "output_type": "display_data"
    }
   ],
   "source": [
    "plt.figure(figsize = (20,10))\n",
    "plt.scatter(x[:,0],x[:,1],c = y, cmap = 'winter',s = 100)\n",
    "plt.plot(x_input,y_input)\n",
    "plt.plot(x_input1,y_input1)\n",
    "plt.plot(x_input2,y_input2)\n",
    "\n",
    "plt.ylim(-4,3)"
   ]
  },
  {
   "cell_type": "code",
   "execution_count": null,
   "id": "40a4bfcb",
   "metadata": {},
   "outputs": [],
   "source": []
  }
 ],
 "metadata": {
  "kernelspec": {
   "display_name": "Python 3",
   "language": "python",
   "name": "python3"
  },
  "language_info": {
   "codemirror_mode": {
    "name": "ipython",
    "version": 3
   },
   "file_extension": ".py",
   "mimetype": "text/x-python",
   "name": "python",
   "nbconvert_exporter": "python",
   "pygments_lexer": "ipython3",
   "version": "3.8.8"
  }
 },
 "nbformat": 4,
 "nbformat_minor": 5
}
