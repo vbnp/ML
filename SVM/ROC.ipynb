{
 "cells": [
  {
   "cell_type": "code",
   "execution_count": 1,
   "id": "b980694e",
   "metadata": {},
   "outputs": [],
   "source": [
    "import pandas as pd\n",
    "import numpy as np\n",
    "import matplotlib.pyplot as plt\n",
    "import seaborn as sns\n",
    "from sklearn.model_selection import train_test_split\n",
    "from sklearn.linear_model import LogisticRegression\n",
    "from sklearn.metrics import roc_curve,roc_auc_score\n"
   ]
  },
  {
   "cell_type": "code",
   "execution_count": 2,
   "id": "82af4a05",
   "metadata": {},
   "outputs": [],
   "source": [
    "# import diabetes data set\n",
    "df = pd.read_csv(\"F:\\PYTHAN\\PYTHAN\\iNeuron\\ML\\CampusX\\SVM_ROC\\diabetes.csv\")"
   ]
  },
  {
   "cell_type": "code",
   "execution_count": 3,
   "id": "21761808",
   "metadata": {},
   "outputs": [
    {
     "data": {
      "text/html": [
       "<div>\n",
       "<style scoped>\n",
       "    .dataframe tbody tr th:only-of-type {\n",
       "        vertical-align: middle;\n",
       "    }\n",
       "\n",
       "    .dataframe tbody tr th {\n",
       "        vertical-align: top;\n",
       "    }\n",
       "\n",
       "    .dataframe thead th {\n",
       "        text-align: right;\n",
       "    }\n",
       "</style>\n",
       "<table border=\"1\" class=\"dataframe\">\n",
       "  <thead>\n",
       "    <tr style=\"text-align: right;\">\n",
       "      <th></th>\n",
       "      <th>Pregnancies</th>\n",
       "      <th>Glucose</th>\n",
       "      <th>BloodPressure</th>\n",
       "      <th>SkinThickness</th>\n",
       "      <th>Insulin</th>\n",
       "      <th>BMI</th>\n",
       "      <th>DiabetesPedigreeFunction</th>\n",
       "      <th>Age</th>\n",
       "      <th>Outcome</th>\n",
       "    </tr>\n",
       "  </thead>\n",
       "  <tbody>\n",
       "    <tr>\n",
       "      <th>0</th>\n",
       "      <td>6</td>\n",
       "      <td>148</td>\n",
       "      <td>72</td>\n",
       "      <td>35</td>\n",
       "      <td>0</td>\n",
       "      <td>33.6</td>\n",
       "      <td>0.627</td>\n",
       "      <td>50</td>\n",
       "      <td>1</td>\n",
       "    </tr>\n",
       "    <tr>\n",
       "      <th>1</th>\n",
       "      <td>1</td>\n",
       "      <td>85</td>\n",
       "      <td>66</td>\n",
       "      <td>29</td>\n",
       "      <td>0</td>\n",
       "      <td>26.6</td>\n",
       "      <td>0.351</td>\n",
       "      <td>31</td>\n",
       "      <td>0</td>\n",
       "    </tr>\n",
       "  </tbody>\n",
       "</table>\n",
       "</div>"
      ],
      "text/plain": [
       "   Pregnancies  Glucose  BloodPressure  SkinThickness  Insulin   BMI  \\\n",
       "0            6      148             72             35        0  33.6   \n",
       "1            1       85             66             29        0  26.6   \n",
       "\n",
       "   DiabetesPedigreeFunction  Age  Outcome  \n",
       "0                     0.627   50        1  \n",
       "1                     0.351   31        0  "
      ]
     },
     "execution_count": 3,
     "metadata": {},
     "output_type": "execute_result"
    }
   ],
   "source": [
    "df.head(2)"
   ]
  },
  {
   "cell_type": "code",
   "execution_count": 4,
   "id": "b7f0248b",
   "metadata": {},
   "outputs": [
    {
     "data": {
      "text/plain": [
       "(768, 9)"
      ]
     },
     "execution_count": 4,
     "metadata": {},
     "output_type": "execute_result"
    }
   ],
   "source": [
    "df.shape"
   ]
  },
  {
   "cell_type": "code",
   "execution_count": 5,
   "id": "f9a0d3c1",
   "metadata": {},
   "outputs": [],
   "source": [
    "# splite data in to input data and target or output data\n",
    "x = df.drop('Outcome',axis = 1)\n",
    "y = df['Outcome']"
   ]
  },
  {
   "cell_type": "code",
   "execution_count": 6,
   "id": "0b41df21",
   "metadata": {},
   "outputs": [
    {
     "data": {
      "text/html": [
       "<div>\n",
       "<style scoped>\n",
       "    .dataframe tbody tr th:only-of-type {\n",
       "        vertical-align: middle;\n",
       "    }\n",
       "\n",
       "    .dataframe tbody tr th {\n",
       "        vertical-align: top;\n",
       "    }\n",
       "\n",
       "    .dataframe thead th {\n",
       "        text-align: right;\n",
       "    }\n",
       "</style>\n",
       "<table border=\"1\" class=\"dataframe\">\n",
       "  <thead>\n",
       "    <tr style=\"text-align: right;\">\n",
       "      <th></th>\n",
       "      <th>Pregnancies</th>\n",
       "      <th>Glucose</th>\n",
       "      <th>BloodPressure</th>\n",
       "      <th>SkinThickness</th>\n",
       "      <th>Insulin</th>\n",
       "      <th>BMI</th>\n",
       "      <th>DiabetesPedigreeFunction</th>\n",
       "      <th>Age</th>\n",
       "    </tr>\n",
       "  </thead>\n",
       "  <tbody>\n",
       "    <tr>\n",
       "      <th>0</th>\n",
       "      <td>6</td>\n",
       "      <td>148</td>\n",
       "      <td>72</td>\n",
       "      <td>35</td>\n",
       "      <td>0</td>\n",
       "      <td>33.6</td>\n",
       "      <td>0.627</td>\n",
       "      <td>50</td>\n",
       "    </tr>\n",
       "    <tr>\n",
       "      <th>1</th>\n",
       "      <td>1</td>\n",
       "      <td>85</td>\n",
       "      <td>66</td>\n",
       "      <td>29</td>\n",
       "      <td>0</td>\n",
       "      <td>26.6</td>\n",
       "      <td>0.351</td>\n",
       "      <td>31</td>\n",
       "    </tr>\n",
       "  </tbody>\n",
       "</table>\n",
       "</div>"
      ],
      "text/plain": [
       "   Pregnancies  Glucose  BloodPressure  SkinThickness  Insulin   BMI  \\\n",
       "0            6      148             72             35        0  33.6   \n",
       "1            1       85             66             29        0  26.6   \n",
       "\n",
       "   DiabetesPedigreeFunction  Age  \n",
       "0                     0.627   50  \n",
       "1                     0.351   31  "
      ]
     },
     "execution_count": 6,
     "metadata": {},
     "output_type": "execute_result"
    }
   ],
   "source": [
    "x.head(2)"
   ]
  },
  {
   "cell_type": "code",
   "execution_count": 7,
   "id": "a7acf48a",
   "metadata": {},
   "outputs": [
    {
     "data": {
      "text/plain": [
       "0    1\n",
       "1    0\n",
       "2    1\n",
       "3    0\n",
       "4    1\n",
       "Name: Outcome, dtype: int64"
      ]
     },
     "execution_count": 7,
     "metadata": {},
     "output_type": "execute_result"
    }
   ],
   "source": [
    "y.head()"
   ]
  },
  {
   "cell_type": "code",
   "execution_count": 8,
   "id": "f250c3b8",
   "metadata": {},
   "outputs": [],
   "source": [
    "# now data has divided n to train test\n",
    "x_train,x_test,y_train,y_test = train_test_split(x,y,test_size = 0.2,random_state = 42)"
   ]
  },
  {
   "cell_type": "code",
   "execution_count": 9,
   "id": "591e1b38",
   "metadata": {},
   "outputs": [
    {
     "name": "stdout",
     "output_type": "stream",
     "text": [
      "(614, 8) (154, 8)\n",
      "(614,) (154,)\n"
     ]
    }
   ],
   "source": [
    "print(x_train.shape,x_test.shape)\n",
    "print(y_train.shape,y_test.shape)"
   ]
  },
  {
   "cell_type": "code",
   "execution_count": 10,
   "id": "5202ea73",
   "metadata": {},
   "outputs": [],
   "source": [
    "log = LogisticRegression(max_iter=1000)"
   ]
  },
  {
   "cell_type": "code",
   "execution_count": 11,
   "id": "5b149232",
   "metadata": {},
   "outputs": [
    {
     "data": {
      "text/html": [
       "<style>#sk-container-id-1 {color: black;}#sk-container-id-1 pre{padding: 0;}#sk-container-id-1 div.sk-toggleable {background-color: white;}#sk-container-id-1 label.sk-toggleable__label {cursor: pointer;display: block;width: 100%;margin-bottom: 0;padding: 0.3em;box-sizing: border-box;text-align: center;}#sk-container-id-1 label.sk-toggleable__label-arrow:before {content: \"▸\";float: left;margin-right: 0.25em;color: #696969;}#sk-container-id-1 label.sk-toggleable__label-arrow:hover:before {color: black;}#sk-container-id-1 div.sk-estimator:hover label.sk-toggleable__label-arrow:before {color: black;}#sk-container-id-1 div.sk-toggleable__content {max-height: 0;max-width: 0;overflow: hidden;text-align: left;background-color: #f0f8ff;}#sk-container-id-1 div.sk-toggleable__content pre {margin: 0.2em;color: black;border-radius: 0.25em;background-color: #f0f8ff;}#sk-container-id-1 input.sk-toggleable__control:checked~div.sk-toggleable__content {max-height: 200px;max-width: 100%;overflow: auto;}#sk-container-id-1 input.sk-toggleable__control:checked~label.sk-toggleable__label-arrow:before {content: \"▾\";}#sk-container-id-1 div.sk-estimator input.sk-toggleable__control:checked~label.sk-toggleable__label {background-color: #d4ebff;}#sk-container-id-1 div.sk-label input.sk-toggleable__control:checked~label.sk-toggleable__label {background-color: #d4ebff;}#sk-container-id-1 input.sk-hidden--visually {border: 0;clip: rect(1px 1px 1px 1px);clip: rect(1px, 1px, 1px, 1px);height: 1px;margin: -1px;overflow: hidden;padding: 0;position: absolute;width: 1px;}#sk-container-id-1 div.sk-estimator {font-family: monospace;background-color: #f0f8ff;border: 1px dotted black;border-radius: 0.25em;box-sizing: border-box;margin-bottom: 0.5em;}#sk-container-id-1 div.sk-estimator:hover {background-color: #d4ebff;}#sk-container-id-1 div.sk-parallel-item::after {content: \"\";width: 100%;border-bottom: 1px solid gray;flex-grow: 1;}#sk-container-id-1 div.sk-label:hover label.sk-toggleable__label {background-color: #d4ebff;}#sk-container-id-1 div.sk-serial::before {content: \"\";position: absolute;border-left: 1px solid gray;box-sizing: border-box;top: 0;bottom: 0;left: 50%;z-index: 0;}#sk-container-id-1 div.sk-serial {display: flex;flex-direction: column;align-items: center;background-color: white;padding-right: 0.2em;padding-left: 0.2em;position: relative;}#sk-container-id-1 div.sk-item {position: relative;z-index: 1;}#sk-container-id-1 div.sk-parallel {display: flex;align-items: stretch;justify-content: center;background-color: white;position: relative;}#sk-container-id-1 div.sk-item::before, #sk-container-id-1 div.sk-parallel-item::before {content: \"\";position: absolute;border-left: 1px solid gray;box-sizing: border-box;top: 0;bottom: 0;left: 50%;z-index: -1;}#sk-container-id-1 div.sk-parallel-item {display: flex;flex-direction: column;z-index: 1;position: relative;background-color: white;}#sk-container-id-1 div.sk-parallel-item:first-child::after {align-self: flex-end;width: 50%;}#sk-container-id-1 div.sk-parallel-item:last-child::after {align-self: flex-start;width: 50%;}#sk-container-id-1 div.sk-parallel-item:only-child::after {width: 0;}#sk-container-id-1 div.sk-dashed-wrapped {border: 1px dashed gray;margin: 0 0.4em 0.5em 0.4em;box-sizing: border-box;padding-bottom: 0.4em;background-color: white;}#sk-container-id-1 div.sk-label label {font-family: monospace;font-weight: bold;display: inline-block;line-height: 1.2em;}#sk-container-id-1 div.sk-label-container {text-align: center;}#sk-container-id-1 div.sk-container {/* jupyter's `normalize.less` sets `[hidden] { display: none; }` but bootstrap.min.css set `[hidden] { display: none !important; }` so we also need the `!important` here to be able to override the default hidden behavior on the sphinx rendered scikit-learn.org. See: https://github.com/scikit-learn/scikit-learn/issues/21755 */display: inline-block !important;position: relative;}#sk-container-id-1 div.sk-text-repr-fallback {display: none;}</style><div id=\"sk-container-id-1\" class=\"sk-top-container\"><div class=\"sk-text-repr-fallback\"><pre>LogisticRegression(max_iter=1000)</pre><b>In a Jupyter environment, please rerun this cell to show the HTML representation or trust the notebook. <br />On GitHub, the HTML representation is unable to render, please try loading this page with nbviewer.org.</b></div><div class=\"sk-container\" hidden><div class=\"sk-item\"><div class=\"sk-estimator sk-toggleable\"><input class=\"sk-toggleable__control sk-hidden--visually\" id=\"sk-estimator-id-1\" type=\"checkbox\" checked><label for=\"sk-estimator-id-1\" class=\"sk-toggleable__label sk-toggleable__label-arrow\">LogisticRegression</label><div class=\"sk-toggleable__content\"><pre>LogisticRegression(max_iter=1000)</pre></div></div></div></div></div>"
      ],
      "text/plain": [
       "LogisticRegression(max_iter=1000)"
      ]
     },
     "execution_count": 11,
     "metadata": {},
     "output_type": "execute_result"
    }
   ],
   "source": [
    "log.fit(x_train,y_train)"
   ]
  },
  {
   "cell_type": "code",
   "execution_count": 12,
   "id": "e14b3042",
   "metadata": {},
   "outputs": [],
   "source": [
    "y_pred=log.predict(x_test)"
   ]
  },
  {
   "cell_type": "code",
   "execution_count": 13,
   "id": "10fca993",
   "metadata": {},
   "outputs": [
    {
     "data": {
      "text/plain": [
       "array([0, 0, 0, 0, 0, 0, 0, 1, 1, 1, 0, 1, 0, 0, 0, 0, 0, 0, 1, 1, 0, 0,\n",
       "       1, 0, 1, 1, 0, 0, 0, 0, 1, 1, 1, 1, 1, 1, 1, 0, 1, 1, 0, 1, 1, 0,\n",
       "       0, 1, 1, 0, 0, 1, 0, 1, 1, 0, 0, 0, 1, 0, 0, 1, 1, 0, 0, 0, 0, 1,\n",
       "       0, 1, 0, 1, 1, 0, 0, 0, 0, 1, 0, 0, 0, 0, 1, 0, 0, 0, 0, 1, 1, 0,\n",
       "       0, 0, 0, 0, 0, 1, 1, 1, 0, 0, 1, 0, 1, 0, 1, 1, 1, 0, 0, 1, 0, 1,\n",
       "       0, 0, 0, 1, 0, 0, 1, 0, 0, 1, 0, 0, 0, 0, 0, 0, 0, 1, 1, 1, 1, 1,\n",
       "       0, 0, 1, 0, 0, 1, 1, 0, 0, 0, 0, 0, 0, 0, 0, 0, 0, 1, 0, 0, 0, 0],\n",
       "      dtype=int64)"
      ]
     },
     "execution_count": 13,
     "metadata": {},
     "output_type": "execute_result"
    }
   ],
   "source": [
    "y_pred"
   ]
  },
  {
   "cell_type": "code",
   "execution_count": 14,
   "id": "1e159e84",
   "metadata": {},
   "outputs": [
    {
     "data": {
      "text/plain": [
       "array([[0.7240649 , 0.2759351 ],\n",
       "       [0.81155898, 0.18844102],\n",
       "       [0.88554825, 0.11445175],\n",
       "       [0.83640039, 0.16359961],\n",
       "       [0.52855384, 0.47144616],\n",
       "       [0.55816729, 0.44183271],\n",
       "       [0.984525  , 0.015475  ],\n",
       "       [0.33916678, 0.66083322],\n",
       "       [0.45849805, 0.54150195],\n",
       "       [0.22273579, 0.77726421],\n",
       "       [0.74403077, 0.25596923],\n",
       "       [0.1026634 , 0.8973366 ],\n",
       "       [0.66383196, 0.33616804],\n",
       "       [0.69685399, 0.30314601],\n",
       "       [0.91795232, 0.08204768],\n",
       "       [0.61887387, 0.38112613],\n",
       "       [0.86063033, 0.13936967],\n",
       "       [0.92517714, 0.07482286],\n",
       "       [0.13330902, 0.86669098],\n",
       "       [0.43868758, 0.56131242],\n",
       "       [0.79160036, 0.20839964],\n",
       "       [0.92256854, 0.07743146],\n",
       "       [0.46031971, 0.53968029],\n",
       "       [0.90539699, 0.09460301],\n",
       "       [0.46058403, 0.53941597],\n",
       "       [0.11447099, 0.88552901],\n",
       "       [0.87562827, 0.12437173],\n",
       "       [0.96981444, 0.03018556],\n",
       "       [0.74858002, 0.25141998],\n",
       "       [0.8841397 , 0.1158603 ],\n",
       "       [0.08889962, 0.91110038],\n",
       "       [0.12928962, 0.87071038],\n",
       "       [0.23469773, 0.76530227],\n",
       "       [0.16247751, 0.83752249],\n",
       "       [0.38339818, 0.61660182],\n",
       "       [0.31666934, 0.68333066],\n",
       "       [0.03181257, 0.96818743],\n",
       "       [0.75619275, 0.24380725],\n",
       "       [0.48845643, 0.51154357],\n",
       "       [0.26407046, 0.73592954],\n",
       "       [0.93013376, 0.06986624],\n",
       "       [0.40573   , 0.59427   ],\n",
       "       [0.41623863, 0.58376137],\n",
       "       [0.67291804, 0.32708196],\n",
       "       [0.97239935, 0.02760065],\n",
       "       [0.49747645, 0.50252355],\n",
       "       [0.36036872, 0.63963128],\n",
       "       [0.77465407, 0.22534593],\n",
       "       [0.63928393, 0.36071607],\n",
       "       [0.04370449, 0.95629551],\n",
       "       [0.95108063, 0.04891937],\n",
       "       [0.33890617, 0.66109383],\n",
       "       [0.18834179, 0.81165821],\n",
       "       [0.75448241, 0.24551759],\n",
       "       [0.90670328, 0.09329672],\n",
       "       [0.95845807, 0.04154193],\n",
       "       [0.22186958, 0.77813042],\n",
       "       [0.99428595, 0.00571405],\n",
       "       [0.59133153, 0.40866847],\n",
       "       [0.24317084, 0.75682916],\n",
       "       [0.2586122 , 0.7413878 ],\n",
       "       [0.64806609, 0.35193391],\n",
       "       [0.80751566, 0.19248434],\n",
       "       [0.79503891, 0.20496109],\n",
       "       [0.92311536, 0.07688464],\n",
       "       [0.3728036 , 0.6271964 ],\n",
       "       [0.94905564, 0.05094436],\n",
       "       [0.26745403, 0.73254597],\n",
       "       [0.9630474 , 0.0369526 ],\n",
       "       [0.28410254, 0.71589746],\n",
       "       [0.32469894, 0.67530106],\n",
       "       [0.92980756, 0.07019244],\n",
       "       [0.81881394, 0.18118606],\n",
       "       [0.88569977, 0.11430023],\n",
       "       [0.90883763, 0.09116237],\n",
       "       [0.48136495, 0.51863505],\n",
       "       [0.83623318, 0.16376682],\n",
       "       [0.86283791, 0.13716209],\n",
       "       [0.86816442, 0.13183558],\n",
       "       [0.76600759, 0.23399241],\n",
       "       [0.34452809, 0.65547191],\n",
       "       [0.85307021, 0.14692979],\n",
       "       [0.93850176, 0.06149824],\n",
       "       [0.62488923, 0.37511077],\n",
       "       [0.74186576, 0.25813424],\n",
       "       [0.16412015, 0.83587985],\n",
       "       [0.09744827, 0.90255173],\n",
       "       [0.69721157, 0.30278843],\n",
       "       [0.87625172, 0.12374828],\n",
       "       [0.91460611, 0.08539389],\n",
       "       [0.93445828, 0.06554172],\n",
       "       [0.76306297, 0.23693703],\n",
       "       [0.99581953, 0.00418047],\n",
       "       [0.449745  , 0.550255  ],\n",
       "       [0.48323966, 0.51676034],\n",
       "       [0.35030719, 0.64969281],\n",
       "       [0.63131846, 0.36868154],\n",
       "       [0.87174041, 0.12825959],\n",
       "       [0.39415026, 0.60584974],\n",
       "       [0.91789029, 0.08210971],\n",
       "       [0.27559886, 0.72440114],\n",
       "       [0.93749415, 0.06250585],\n",
       "       [0.22231926, 0.77768074],\n",
       "       [0.49706654, 0.50293346],\n",
       "       [0.35803774, 0.64196226],\n",
       "       [0.78079049, 0.21920951],\n",
       "       [0.74250704, 0.25749296],\n",
       "       [0.2643575 , 0.7356425 ],\n",
       "       [0.87290758, 0.12709242],\n",
       "       [0.46566769, 0.53433231],\n",
       "       [0.90126545, 0.09873455],\n",
       "       [0.68192594, 0.31807406],\n",
       "       [0.98002537, 0.01997463],\n",
       "       [0.26464082, 0.73535918],\n",
       "       [0.82541421, 0.17458579],\n",
       "       [0.66090811, 0.33909189],\n",
       "       [0.22633552, 0.77366448],\n",
       "       [0.78090686, 0.21909314],\n",
       "       [0.93639597, 0.06360403],\n",
       "       [0.41613024, 0.58386976],\n",
       "       [0.94145858, 0.05854142],\n",
       "       [0.70347968, 0.29652032],\n",
       "       [0.75927651, 0.24072349],\n",
       "       [0.9229197 , 0.0770803 ],\n",
       "       [0.73509514, 0.26490486],\n",
       "       [0.57942308, 0.42057692],\n",
       "       [0.95946455, 0.04053545],\n",
       "       [0.12897764, 0.87102236],\n",
       "       [0.02889611, 0.97110389],\n",
       "       [0.27020997, 0.72979003],\n",
       "       [0.29769317, 0.70230683],\n",
       "       [0.14822223, 0.85177777],\n",
       "       [0.91539016, 0.08460984],\n",
       "       [0.57977649, 0.42022351],\n",
       "       [0.18768749, 0.81231251],\n",
       "       [0.88829261, 0.11170739],\n",
       "       [0.84578967, 0.15421033],\n",
       "       [0.14593006, 0.85406994],\n",
       "       [0.19900315, 0.80099685],\n",
       "       [0.98696203, 0.01303797],\n",
       "       [0.90503769, 0.09496231],\n",
       "       [0.96021189, 0.03978811],\n",
       "       [0.7978056 , 0.2021944 ],\n",
       "       [0.62330971, 0.37669029],\n",
       "       [0.87597189, 0.12402811],\n",
       "       [0.70884972, 0.29115028],\n",
       "       [0.85944075, 0.14055925],\n",
       "       [0.97853143, 0.02146857],\n",
       "       [0.56985283, 0.43014717],\n",
       "       [0.24925502, 0.75074498],\n",
       "       [0.88125541, 0.11874459],\n",
       "       [0.51452187, 0.48547813],\n",
       "       [0.77476485, 0.22523515],\n",
       "       [0.7999206 , 0.2000794 ]])"
      ]
     },
     "execution_count": 14,
     "metadata": {},
     "output_type": "execute_result"
    }
   ],
   "source": [
    "# to find probability of person has dabetes or not\n",
    "log.predict_proba(x_test)\n",
    "#this give both value dabetes and not diabetes"
   ]
  },
  {
   "cell_type": "code",
   "execution_count": 19,
   "id": "973caabc",
   "metadata": {},
   "outputs": [],
   "source": [
    "# now We need only value of probality of person has dabetes\n",
    "y_score = log.predict_proba(x_test)[:,0]"
   ]
  },
  {
   "cell_type": "code",
   "execution_count": 20,
   "id": "8e268639",
   "metadata": {},
   "outputs": [
    {
     "data": {
      "text/plain": [
       "array([0.7240649 , 0.81155898, 0.88554825, 0.83640039, 0.52855384,\n",
       "       0.55816729, 0.984525  , 0.33916678, 0.45849805, 0.22273579,\n",
       "       0.74403077, 0.1026634 , 0.66383196, 0.69685399, 0.91795232,\n",
       "       0.61887387, 0.86063033, 0.92517714, 0.13330902, 0.43868758,\n",
       "       0.79160036, 0.92256854, 0.46031971, 0.90539699, 0.46058403,\n",
       "       0.11447099, 0.87562827, 0.96981444, 0.74858002, 0.8841397 ,\n",
       "       0.08889962, 0.12928962, 0.23469773, 0.16247751, 0.38339818,\n",
       "       0.31666934, 0.03181257, 0.75619275, 0.48845643, 0.26407046,\n",
       "       0.93013376, 0.40573   , 0.41623863, 0.67291804, 0.97239935,\n",
       "       0.49747645, 0.36036872, 0.77465407, 0.63928393, 0.04370449,\n",
       "       0.95108063, 0.33890617, 0.18834179, 0.75448241, 0.90670328,\n",
       "       0.95845807, 0.22186958, 0.99428595, 0.59133153, 0.24317084,\n",
       "       0.2586122 , 0.64806609, 0.80751566, 0.79503891, 0.92311536,\n",
       "       0.3728036 , 0.94905564, 0.26745403, 0.9630474 , 0.28410254,\n",
       "       0.32469894, 0.92980756, 0.81881394, 0.88569977, 0.90883763,\n",
       "       0.48136495, 0.83623318, 0.86283791, 0.86816442, 0.76600759,\n",
       "       0.34452809, 0.85307021, 0.93850176, 0.62488923, 0.74186576,\n",
       "       0.16412015, 0.09744827, 0.69721157, 0.87625172, 0.91460611,\n",
       "       0.93445828, 0.76306297, 0.99581953, 0.449745  , 0.48323966,\n",
       "       0.35030719, 0.63131846, 0.87174041, 0.39415026, 0.91789029,\n",
       "       0.27559886, 0.93749415, 0.22231926, 0.49706654, 0.35803774,\n",
       "       0.78079049, 0.74250704, 0.2643575 , 0.87290758, 0.46566769,\n",
       "       0.90126545, 0.68192594, 0.98002537, 0.26464082, 0.82541421,\n",
       "       0.66090811, 0.22633552, 0.78090686, 0.93639597, 0.41613024,\n",
       "       0.94145858, 0.70347968, 0.75927651, 0.9229197 , 0.73509514,\n",
       "       0.57942308, 0.95946455, 0.12897764, 0.02889611, 0.27020997,\n",
       "       0.29769317, 0.14822223, 0.91539016, 0.57977649, 0.18768749,\n",
       "       0.88829261, 0.84578967, 0.14593006, 0.19900315, 0.98696203,\n",
       "       0.90503769, 0.96021189, 0.7978056 , 0.62330971, 0.87597189,\n",
       "       0.70884972, 0.85944075, 0.97853143, 0.56985283, 0.24925502,\n",
       "       0.88125541, 0.51452187, 0.77476485, 0.7999206 ])"
      ]
     },
     "execution_count": 20,
     "metadata": {},
     "output_type": "execute_result"
    }
   ],
   "source": [
    "y_score "
   ]
  },
  {
   "cell_type": "code",
   "execution_count": 33,
   "id": "441455e3",
   "metadata": {},
   "outputs": [],
   "source": [
    "# \n",
    "fpr,tpr,thresholds = roc_curve(y_test,y_score )"
   ]
  },
  {
   "cell_type": "code",
   "execution_count": 34,
   "id": "048bb32b",
   "metadata": {},
   "outputs": [
    {
     "data": {
      "text/plain": [
       "array([       inf, 0.99581953, 0.96021189, 0.95946455, 0.88829261,\n",
       "       0.88569977, 0.87562827, 0.87290758, 0.86063033, 0.84578967,\n",
       "       0.7978056 , 0.79503891, 0.78079049, 0.77476485, 0.76306297,\n",
       "       0.74403077, 0.70347968, 0.69721157, 0.68192594, 0.66383196,\n",
       "       0.62330971, 0.61887387, 0.59133153, 0.57977649, 0.51452187,\n",
       "       0.49747645, 0.48136495, 0.46566769, 0.45849805, 0.43868758,\n",
       "       0.40573   , 0.39415026, 0.3728036 , 0.35803774, 0.35030719,\n",
       "       0.34452809, 0.33916678, 0.33890617, 0.32469894, 0.28410254,\n",
       "       0.27020997, 0.22633552, 0.22273579, 0.22231926, 0.22186958,\n",
       "       0.11447099, 0.1026634 , 0.08889962, 0.04370449, 0.02889611])"
      ]
     },
     "execution_count": 34,
     "metadata": {},
     "output_type": "execute_result"
    }
   ],
   "source": [
    "thresholds"
   ]
  },
  {
   "cell_type": "code",
   "execution_count": 35,
   "id": "a4c04546",
   "metadata": {},
   "outputs": [
    {
     "data": {
      "text/plain": [
       "array([0.        , 0.01010101, 0.1010101 , 0.1010101 , 0.34343434,\n",
       "       0.34343434, 0.4040404 , 0.4040404 , 0.44444444, 0.44444444,\n",
       "       0.52525253, 0.52525253, 0.55555556, 0.55555556, 0.58585859,\n",
       "       0.58585859, 0.64646465, 0.64646465, 0.66666667, 0.66666667,\n",
       "       0.72727273, 0.72727273, 0.73737374, 0.73737374, 0.78787879,\n",
       "       0.78787879, 0.82828283, 0.82828283, 0.85858586, 0.85858586,\n",
       "       0.88888889, 0.88888889, 0.90909091, 0.90909091, 0.91919192,\n",
       "       0.91919192, 0.92929293, 0.92929293, 0.93939394, 0.93939394,\n",
       "       0.95959596, 0.95959596, 0.96969697, 0.96969697, 0.97979798,\n",
       "       0.97979798, 0.98989899, 0.98989899, 1.        , 1.        ])"
      ]
     },
     "execution_count": 35,
     "metadata": {},
     "output_type": "execute_result"
    }
   ],
   "source": [
    "fpr"
   ]
  },
  {
   "cell_type": "code",
   "execution_count": 36,
   "id": "15d91b31",
   "metadata": {},
   "outputs": [
    {
     "data": {
      "text/plain": [
       "array([0.        , 0.        , 0.        , 0.01818182, 0.01818182,\n",
       "       0.03636364, 0.03636364, 0.05454545, 0.05454545, 0.10909091,\n",
       "       0.10909091, 0.12727273, 0.12727273, 0.14545455, 0.14545455,\n",
       "       0.23636364, 0.23636364, 0.25454545, 0.25454545, 0.29090909,\n",
       "       0.29090909, 0.30909091, 0.30909091, 0.32727273, 0.32727273,\n",
       "       0.34545455, 0.34545455, 0.36363636, 0.36363636, 0.4       ,\n",
       "       0.4       , 0.41818182, 0.41818182, 0.45454545, 0.45454545,\n",
       "       0.47272727, 0.47272727, 0.49090909, 0.49090909, 0.54545455,\n",
       "       0.54545455, 0.70909091, 0.70909091, 0.72727273, 0.72727273,\n",
       "       0.92727273, 0.92727273, 0.96363636, 0.96363636, 1.        ])"
      ]
     },
     "execution_count": 36,
     "metadata": {},
     "output_type": "execute_result"
    }
   ],
   "source": [
    "tpr"
   ]
  },
  {
   "cell_type": "code",
   "execution_count": 50,
   "id": "47f28572",
   "metadata": {},
   "outputs": [
    {
     "data": {
      "application/vnd.plotly.v1+json": {
       "config": {
        "plotlyServerURL": "https://plot.ly"
       },
       "data": [
        {
         "mode": "lines",
         "name": "ROC curve",
         "type": "scatter",
         "x": [
          0,
          0,
          0,
          0.01818181818181818,
          0.01818181818181818,
          0.03636363636363636,
          0.03636363636363636,
          0.05454545454545454,
          0.05454545454545454,
          0.10909090909090909,
          0.10909090909090909,
          0.12727272727272726,
          0.12727272727272726,
          0.14545454545454545,
          0.14545454545454545,
          0.23636363636363636,
          0.23636363636363636,
          0.2545454545454545,
          0.2545454545454545,
          0.2909090909090909,
          0.2909090909090909,
          0.3090909090909091,
          0.3090909090909091,
          0.32727272727272727,
          0.32727272727272727,
          0.34545454545454546,
          0.34545454545454546,
          0.36363636363636365,
          0.36363636363636365,
          0.4,
          0.4,
          0.41818181818181815,
          0.41818181818181815,
          0.45454545454545453,
          0.45454545454545453,
          0.4727272727272727,
          0.4727272727272727,
          0.4909090909090909,
          0.4909090909090909,
          0.5454545454545454,
          0.5454545454545454,
          0.7090909090909091,
          0.7090909090909091,
          0.7272727272727273,
          0.7272727272727273,
          0.9272727272727272,
          0.9272727272727272,
          0.9636363636363636,
          0.9636363636363636,
          1
         ],
         "y": [
          0,
          0.010101010101010102,
          0.10101010101010101,
          0.10101010101010101,
          0.3434343434343434,
          0.3434343434343434,
          0.40404040404040403,
          0.40404040404040403,
          0.4444444444444444,
          0.4444444444444444,
          0.5252525252525253,
          0.5252525252525253,
          0.5555555555555556,
          0.5555555555555556,
          0.5858585858585859,
          0.5858585858585859,
          0.6464646464646465,
          0.6464646464646465,
          0.6666666666666666,
          0.6666666666666666,
          0.7272727272727273,
          0.7272727272727273,
          0.7373737373737373,
          0.7373737373737373,
          0.7878787878787878,
          0.7878787878787878,
          0.8282828282828283,
          0.8282828282828283,
          0.8585858585858586,
          0.8585858585858586,
          0.8888888888888888,
          0.8888888888888888,
          0.9090909090909091,
          0.9090909090909091,
          0.9191919191919192,
          0.9191919191919192,
          0.9292929292929293,
          0.9292929292929293,
          0.9393939393939394,
          0.9393939393939394,
          0.9595959595959596,
          0.9595959595959596,
          0.9696969696969697,
          0.9696969696969697,
          0.9797979797979798,
          0.9797979797979798,
          0.98989898989899,
          0.98989898989899,
          1,
          1
         ]
        },
        {
         "mode": "markers+text",
         "name": "Threshold points",
         "text": [
          "Thr=inf",
          "Thr=0.80",
          "Thr=0.62",
          "Thr=0.41",
          "Thr=0.27"
         ],
         "textposition": "top center",
         "type": "scatter",
         "x": [
          0,
          0.10909090909090909,
          0.2909090909090909,
          0.4,
          0.5454545454545454
         ],
         "y": [
          0,
          0.5252525252525253,
          0.7272727272727273,
          0.8888888888888888,
          0.9595959595959596
         ]
        },
        {
         "line": {
          "dash": "dash"
         },
         "mode": "lines",
         "name": "Random (Area = 0.5)",
         "type": "scatter",
         "x": [
          0,
          1
         ],
         "y": [
          0,
          1
         ]
        }
       ],
       "layout": {
        "autosize": false,
        "height": 800,
        "showlegend": false,
        "template": {
         "data": {
          "bar": [
           {
            "error_x": {
             "color": "#2a3f5f"
            },
            "error_y": {
             "color": "#2a3f5f"
            },
            "marker": {
             "line": {
              "color": "#E5ECF6",
              "width": 0.5
             },
             "pattern": {
              "fillmode": "overlay",
              "size": 10,
              "solidity": 0.2
             }
            },
            "type": "bar"
           }
          ],
          "barpolar": [
           {
            "marker": {
             "line": {
              "color": "#E5ECF6",
              "width": 0.5
             },
             "pattern": {
              "fillmode": "overlay",
              "size": 10,
              "solidity": 0.2
             }
            },
            "type": "barpolar"
           }
          ],
          "carpet": [
           {
            "aaxis": {
             "endlinecolor": "#2a3f5f",
             "gridcolor": "white",
             "linecolor": "white",
             "minorgridcolor": "white",
             "startlinecolor": "#2a3f5f"
            },
            "baxis": {
             "endlinecolor": "#2a3f5f",
             "gridcolor": "white",
             "linecolor": "white",
             "minorgridcolor": "white",
             "startlinecolor": "#2a3f5f"
            },
            "type": "carpet"
           }
          ],
          "choropleth": [
           {
            "colorbar": {
             "outlinewidth": 0,
             "ticks": ""
            },
            "type": "choropleth"
           }
          ],
          "contour": [
           {
            "colorbar": {
             "outlinewidth": 0,
             "ticks": ""
            },
            "colorscale": [
             [
              0,
              "#0d0887"
             ],
             [
              0.1111111111111111,
              "#46039f"
             ],
             [
              0.2222222222222222,
              "#7201a8"
             ],
             [
              0.3333333333333333,
              "#9c179e"
             ],
             [
              0.4444444444444444,
              "#bd3786"
             ],
             [
              0.5555555555555556,
              "#d8576b"
             ],
             [
              0.6666666666666666,
              "#ed7953"
             ],
             [
              0.7777777777777778,
              "#fb9f3a"
             ],
             [
              0.8888888888888888,
              "#fdca26"
             ],
             [
              1,
              "#f0f921"
             ]
            ],
            "type": "contour"
           }
          ],
          "contourcarpet": [
           {
            "colorbar": {
             "outlinewidth": 0,
             "ticks": ""
            },
            "type": "contourcarpet"
           }
          ],
          "heatmap": [
           {
            "colorbar": {
             "outlinewidth": 0,
             "ticks": ""
            },
            "colorscale": [
             [
              0,
              "#0d0887"
             ],
             [
              0.1111111111111111,
              "#46039f"
             ],
             [
              0.2222222222222222,
              "#7201a8"
             ],
             [
              0.3333333333333333,
              "#9c179e"
             ],
             [
              0.4444444444444444,
              "#bd3786"
             ],
             [
              0.5555555555555556,
              "#d8576b"
             ],
             [
              0.6666666666666666,
              "#ed7953"
             ],
             [
              0.7777777777777778,
              "#fb9f3a"
             ],
             [
              0.8888888888888888,
              "#fdca26"
             ],
             [
              1,
              "#f0f921"
             ]
            ],
            "type": "heatmap"
           }
          ],
          "heatmapgl": [
           {
            "colorbar": {
             "outlinewidth": 0,
             "ticks": ""
            },
            "colorscale": [
             [
              0,
              "#0d0887"
             ],
             [
              0.1111111111111111,
              "#46039f"
             ],
             [
              0.2222222222222222,
              "#7201a8"
             ],
             [
              0.3333333333333333,
              "#9c179e"
             ],
             [
              0.4444444444444444,
              "#bd3786"
             ],
             [
              0.5555555555555556,
              "#d8576b"
             ],
             [
              0.6666666666666666,
              "#ed7953"
             ],
             [
              0.7777777777777778,
              "#fb9f3a"
             ],
             [
              0.8888888888888888,
              "#fdca26"
             ],
             [
              1,
              "#f0f921"
             ]
            ],
            "type": "heatmapgl"
           }
          ],
          "histogram": [
           {
            "marker": {
             "pattern": {
              "fillmode": "overlay",
              "size": 10,
              "solidity": 0.2
             }
            },
            "type": "histogram"
           }
          ],
          "histogram2d": [
           {
            "colorbar": {
             "outlinewidth": 0,
             "ticks": ""
            },
            "colorscale": [
             [
              0,
              "#0d0887"
             ],
             [
              0.1111111111111111,
              "#46039f"
             ],
             [
              0.2222222222222222,
              "#7201a8"
             ],
             [
              0.3333333333333333,
              "#9c179e"
             ],
             [
              0.4444444444444444,
              "#bd3786"
             ],
             [
              0.5555555555555556,
              "#d8576b"
             ],
             [
              0.6666666666666666,
              "#ed7953"
             ],
             [
              0.7777777777777778,
              "#fb9f3a"
             ],
             [
              0.8888888888888888,
              "#fdca26"
             ],
             [
              1,
              "#f0f921"
             ]
            ],
            "type": "histogram2d"
           }
          ],
          "histogram2dcontour": [
           {
            "colorbar": {
             "outlinewidth": 0,
             "ticks": ""
            },
            "colorscale": [
             [
              0,
              "#0d0887"
             ],
             [
              0.1111111111111111,
              "#46039f"
             ],
             [
              0.2222222222222222,
              "#7201a8"
             ],
             [
              0.3333333333333333,
              "#9c179e"
             ],
             [
              0.4444444444444444,
              "#bd3786"
             ],
             [
              0.5555555555555556,
              "#d8576b"
             ],
             [
              0.6666666666666666,
              "#ed7953"
             ],
             [
              0.7777777777777778,
              "#fb9f3a"
             ],
             [
              0.8888888888888888,
              "#fdca26"
             ],
             [
              1,
              "#f0f921"
             ]
            ],
            "type": "histogram2dcontour"
           }
          ],
          "mesh3d": [
           {
            "colorbar": {
             "outlinewidth": 0,
             "ticks": ""
            },
            "type": "mesh3d"
           }
          ],
          "parcoords": [
           {
            "line": {
             "colorbar": {
              "outlinewidth": 0,
              "ticks": ""
             }
            },
            "type": "parcoords"
           }
          ],
          "pie": [
           {
            "automargin": true,
            "type": "pie"
           }
          ],
          "scatter": [
           {
            "fillpattern": {
             "fillmode": "overlay",
             "size": 10,
             "solidity": 0.2
            },
            "type": "scatter"
           }
          ],
          "scatter3d": [
           {
            "line": {
             "colorbar": {
              "outlinewidth": 0,
              "ticks": ""
             }
            },
            "marker": {
             "colorbar": {
              "outlinewidth": 0,
              "ticks": ""
             }
            },
            "type": "scatter3d"
           }
          ],
          "scattercarpet": [
           {
            "marker": {
             "colorbar": {
              "outlinewidth": 0,
              "ticks": ""
             }
            },
            "type": "scattercarpet"
           }
          ],
          "scattergeo": [
           {
            "marker": {
             "colorbar": {
              "outlinewidth": 0,
              "ticks": ""
             }
            },
            "type": "scattergeo"
           }
          ],
          "scattergl": [
           {
            "marker": {
             "colorbar": {
              "outlinewidth": 0,
              "ticks": ""
             }
            },
            "type": "scattergl"
           }
          ],
          "scattermapbox": [
           {
            "marker": {
             "colorbar": {
              "outlinewidth": 0,
              "ticks": ""
             }
            },
            "type": "scattermapbox"
           }
          ],
          "scatterpolar": [
           {
            "marker": {
             "colorbar": {
              "outlinewidth": 0,
              "ticks": ""
             }
            },
            "type": "scatterpolar"
           }
          ],
          "scatterpolargl": [
           {
            "marker": {
             "colorbar": {
              "outlinewidth": 0,
              "ticks": ""
             }
            },
            "type": "scatterpolargl"
           }
          ],
          "scatterternary": [
           {
            "marker": {
             "colorbar": {
              "outlinewidth": 0,
              "ticks": ""
             }
            },
            "type": "scatterternary"
           }
          ],
          "surface": [
           {
            "colorbar": {
             "outlinewidth": 0,
             "ticks": ""
            },
            "colorscale": [
             [
              0,
              "#0d0887"
             ],
             [
              0.1111111111111111,
              "#46039f"
             ],
             [
              0.2222222222222222,
              "#7201a8"
             ],
             [
              0.3333333333333333,
              "#9c179e"
             ],
             [
              0.4444444444444444,
              "#bd3786"
             ],
             [
              0.5555555555555556,
              "#d8576b"
             ],
             [
              0.6666666666666666,
              "#ed7953"
             ],
             [
              0.7777777777777778,
              "#fb9f3a"
             ],
             [
              0.8888888888888888,
              "#fdca26"
             ],
             [
              1,
              "#f0f921"
             ]
            ],
            "type": "surface"
           }
          ],
          "table": [
           {
            "cells": {
             "fill": {
              "color": "#EBF0F8"
             },
             "line": {
              "color": "white"
             }
            },
            "header": {
             "fill": {
              "color": "#C8D4E3"
             },
             "line": {
              "color": "white"
             }
            },
            "type": "table"
           }
          ]
         },
         "layout": {
          "annotationdefaults": {
           "arrowcolor": "#2a3f5f",
           "arrowhead": 0,
           "arrowwidth": 1
          },
          "autotypenumbers": "strict",
          "coloraxis": {
           "colorbar": {
            "outlinewidth": 0,
            "ticks": ""
           }
          },
          "colorscale": {
           "diverging": [
            [
             0,
             "#8e0152"
            ],
            [
             0.1,
             "#c51b7d"
            ],
            [
             0.2,
             "#de77ae"
            ],
            [
             0.3,
             "#f1b6da"
            ],
            [
             0.4,
             "#fde0ef"
            ],
            [
             0.5,
             "#f7f7f7"
            ],
            [
             0.6,
             "#e6f5d0"
            ],
            [
             0.7,
             "#b8e186"
            ],
            [
             0.8,
             "#7fbc41"
            ],
            [
             0.9,
             "#4d9221"
            ],
            [
             1,
             "#276419"
            ]
           ],
           "sequential": [
            [
             0,
             "#0d0887"
            ],
            [
             0.1111111111111111,
             "#46039f"
            ],
            [
             0.2222222222222222,
             "#7201a8"
            ],
            [
             0.3333333333333333,
             "#9c179e"
            ],
            [
             0.4444444444444444,
             "#bd3786"
            ],
            [
             0.5555555555555556,
             "#d8576b"
            ],
            [
             0.6666666666666666,
             "#ed7953"
            ],
            [
             0.7777777777777778,
             "#fb9f3a"
            ],
            [
             0.8888888888888888,
             "#fdca26"
            ],
            [
             1,
             "#f0f921"
            ]
           ],
           "sequentialminus": [
            [
             0,
             "#0d0887"
            ],
            [
             0.1111111111111111,
             "#46039f"
            ],
            [
             0.2222222222222222,
             "#7201a8"
            ],
            [
             0.3333333333333333,
             "#9c179e"
            ],
            [
             0.4444444444444444,
             "#bd3786"
            ],
            [
             0.5555555555555556,
             "#d8576b"
            ],
            [
             0.6666666666666666,
             "#ed7953"
            ],
            [
             0.7777777777777778,
             "#fb9f3a"
            ],
            [
             0.8888888888888888,
             "#fdca26"
            ],
            [
             1,
             "#f0f921"
            ]
           ]
          },
          "colorway": [
           "#636efa",
           "#EF553B",
           "#00cc96",
           "#ab63fa",
           "#FFA15A",
           "#19d3f3",
           "#FF6692",
           "#B6E880",
           "#FF97FF",
           "#FECB52"
          ],
          "font": {
           "color": "#2a3f5f"
          },
          "geo": {
           "bgcolor": "white",
           "lakecolor": "white",
           "landcolor": "#E5ECF6",
           "showlakes": true,
           "showland": true,
           "subunitcolor": "white"
          },
          "hoverlabel": {
           "align": "left"
          },
          "hovermode": "closest",
          "mapbox": {
           "style": "light"
          },
          "paper_bgcolor": "white",
          "plot_bgcolor": "#E5ECF6",
          "polar": {
           "angularaxis": {
            "gridcolor": "white",
            "linecolor": "white",
            "ticks": ""
           },
           "bgcolor": "#E5ECF6",
           "radialaxis": {
            "gridcolor": "white",
            "linecolor": "white",
            "ticks": ""
           }
          },
          "scene": {
           "xaxis": {
            "backgroundcolor": "#E5ECF6",
            "gridcolor": "white",
            "gridwidth": 2,
            "linecolor": "white",
            "showbackground": true,
            "ticks": "",
            "zerolinecolor": "white"
           },
           "yaxis": {
            "backgroundcolor": "#E5ECF6",
            "gridcolor": "white",
            "gridwidth": 2,
            "linecolor": "white",
            "showbackground": true,
            "ticks": "",
            "zerolinecolor": "white"
           },
           "zaxis": {
            "backgroundcolor": "#E5ECF6",
            "gridcolor": "white",
            "gridwidth": 2,
            "linecolor": "white",
            "showbackground": true,
            "ticks": "",
            "zerolinecolor": "white"
           }
          },
          "shapedefaults": {
           "line": {
            "color": "#2a3f5f"
           }
          },
          "ternary": {
           "aaxis": {
            "gridcolor": "white",
            "linecolor": "white",
            "ticks": ""
           },
           "baxis": {
            "gridcolor": "white",
            "linecolor": "white",
            "ticks": ""
           },
           "bgcolor": "#E5ECF6",
           "caxis": {
            "gridcolor": "white",
            "linecolor": "white",
            "ticks": ""
           }
          },
          "title": {
           "x": 0.05
          },
          "xaxis": {
           "automargin": true,
           "gridcolor": "white",
           "linecolor": "white",
           "ticks": "",
           "title": {
            "standoff": 15
           },
           "zerolinecolor": "white",
           "zerolinewidth": 2
          },
          "yaxis": {
           "automargin": true,
           "gridcolor": "white",
           "linecolor": "white",
           "ticks": "",
           "title": {
            "standoff": 15
           },
           "zerolinecolor": "white",
           "zerolinewidth": 2
          }
         }
        },
        "title": {
         "text": "Receiver Operating Characteristic"
        },
        "width": 800,
        "xaxis": {
         "title": {
          "text": "False Positive Rate"
         }
        },
        "yaxis": {
         "title": {
          "text": "True Positive Rate"
         }
        }
       }
      },
      "text/html": [
       "<div>                            <div id=\"6625af4d-ac94-40cd-9d8a-abef86b70653\" class=\"plotly-graph-div\" style=\"height:800px; width:800px;\"></div>            <script type=\"text/javascript\">                require([\"plotly\"], function(Plotly) {                    window.PLOTLYENV=window.PLOTLYENV || {};                                    if (document.getElementById(\"6625af4d-ac94-40cd-9d8a-abef86b70653\")) {                    Plotly.newPlot(                        \"6625af4d-ac94-40cd-9d8a-abef86b70653\",                        [{\"mode\":\"lines\",\"name\":\"ROC curve\",\"x\":[0.0,0.0,0.0,0.01818181818181818,0.01818181818181818,0.03636363636363636,0.03636363636363636,0.05454545454545454,0.05454545454545454,0.10909090909090909,0.10909090909090909,0.12727272727272726,0.12727272727272726,0.14545454545454545,0.14545454545454545,0.23636363636363636,0.23636363636363636,0.2545454545454545,0.2545454545454545,0.2909090909090909,0.2909090909090909,0.3090909090909091,0.3090909090909091,0.32727272727272727,0.32727272727272727,0.34545454545454546,0.34545454545454546,0.36363636363636365,0.36363636363636365,0.4,0.4,0.41818181818181815,0.41818181818181815,0.45454545454545453,0.45454545454545453,0.4727272727272727,0.4727272727272727,0.4909090909090909,0.4909090909090909,0.5454545454545454,0.5454545454545454,0.7090909090909091,0.7090909090909091,0.7272727272727273,0.7272727272727273,0.9272727272727272,0.9272727272727272,0.9636363636363636,0.9636363636363636,1.0],\"y\":[0.0,0.010101010101010102,0.10101010101010101,0.10101010101010101,0.3434343434343434,0.3434343434343434,0.40404040404040403,0.40404040404040403,0.4444444444444444,0.4444444444444444,0.5252525252525253,0.5252525252525253,0.5555555555555556,0.5555555555555556,0.5858585858585859,0.5858585858585859,0.6464646464646465,0.6464646464646465,0.6666666666666666,0.6666666666666666,0.7272727272727273,0.7272727272727273,0.7373737373737373,0.7373737373737373,0.7878787878787878,0.7878787878787878,0.8282828282828283,0.8282828282828283,0.8585858585858586,0.8585858585858586,0.8888888888888888,0.8888888888888888,0.9090909090909091,0.9090909090909091,0.9191919191919192,0.9191919191919192,0.9292929292929293,0.9292929292929293,0.9393939393939394,0.9393939393939394,0.9595959595959596,0.9595959595959596,0.9696969696969697,0.9696969696969697,0.9797979797979798,0.9797979797979798,0.98989898989899,0.98989898989899,1.0,1.0],\"type\":\"scatter\"},{\"mode\":\"markers+text\",\"name\":\"Threshold points\",\"text\":[\"Thr=inf\",\"Thr=0.80\",\"Thr=0.62\",\"Thr=0.41\",\"Thr=0.27\"],\"textposition\":\"top center\",\"x\":[0.0,0.10909090909090909,0.2909090909090909,0.4,0.5454545454545454],\"y\":[0.0,0.5252525252525253,0.7272727272727273,0.8888888888888888,0.9595959595959596],\"type\":\"scatter\"},{\"line\":{\"dash\":\"dash\"},\"mode\":\"lines\",\"name\":\"Random (Area = 0.5)\",\"x\":[0,1],\"y\":[0,1],\"type\":\"scatter\"}],                        {\"autosize\":false,\"height\":800,\"showlegend\":false,\"title\":{\"text\":\"Receiver Operating Characteristic\"},\"width\":800,\"xaxis\":{\"title\":{\"text\":\"False Positive Rate\"}},\"yaxis\":{\"title\":{\"text\":\"True Positive Rate\"}},\"template\":{\"data\":{\"histogram2dcontour\":[{\"type\":\"histogram2dcontour\",\"colorbar\":{\"outlinewidth\":0,\"ticks\":\"\"},\"colorscale\":[[0.0,\"#0d0887\"],[0.1111111111111111,\"#46039f\"],[0.2222222222222222,\"#7201a8\"],[0.3333333333333333,\"#9c179e\"],[0.4444444444444444,\"#bd3786\"],[0.5555555555555556,\"#d8576b\"],[0.6666666666666666,\"#ed7953\"],[0.7777777777777778,\"#fb9f3a\"],[0.8888888888888888,\"#fdca26\"],[1.0,\"#f0f921\"]]}],\"choropleth\":[{\"type\":\"choropleth\",\"colorbar\":{\"outlinewidth\":0,\"ticks\":\"\"}}],\"histogram2d\":[{\"type\":\"histogram2d\",\"colorbar\":{\"outlinewidth\":0,\"ticks\":\"\"},\"colorscale\":[[0.0,\"#0d0887\"],[0.1111111111111111,\"#46039f\"],[0.2222222222222222,\"#7201a8\"],[0.3333333333333333,\"#9c179e\"],[0.4444444444444444,\"#bd3786\"],[0.5555555555555556,\"#d8576b\"],[0.6666666666666666,\"#ed7953\"],[0.7777777777777778,\"#fb9f3a\"],[0.8888888888888888,\"#fdca26\"],[1.0,\"#f0f921\"]]}],\"heatmap\":[{\"type\":\"heatmap\",\"colorbar\":{\"outlinewidth\":0,\"ticks\":\"\"},\"colorscale\":[[0.0,\"#0d0887\"],[0.1111111111111111,\"#46039f\"],[0.2222222222222222,\"#7201a8\"],[0.3333333333333333,\"#9c179e\"],[0.4444444444444444,\"#bd3786\"],[0.5555555555555556,\"#d8576b\"],[0.6666666666666666,\"#ed7953\"],[0.7777777777777778,\"#fb9f3a\"],[0.8888888888888888,\"#fdca26\"],[1.0,\"#f0f921\"]]}],\"heatmapgl\":[{\"type\":\"heatmapgl\",\"colorbar\":{\"outlinewidth\":0,\"ticks\":\"\"},\"colorscale\":[[0.0,\"#0d0887\"],[0.1111111111111111,\"#46039f\"],[0.2222222222222222,\"#7201a8\"],[0.3333333333333333,\"#9c179e\"],[0.4444444444444444,\"#bd3786\"],[0.5555555555555556,\"#d8576b\"],[0.6666666666666666,\"#ed7953\"],[0.7777777777777778,\"#fb9f3a\"],[0.8888888888888888,\"#fdca26\"],[1.0,\"#f0f921\"]]}],\"contourcarpet\":[{\"type\":\"contourcarpet\",\"colorbar\":{\"outlinewidth\":0,\"ticks\":\"\"}}],\"contour\":[{\"type\":\"contour\",\"colorbar\":{\"outlinewidth\":0,\"ticks\":\"\"},\"colorscale\":[[0.0,\"#0d0887\"],[0.1111111111111111,\"#46039f\"],[0.2222222222222222,\"#7201a8\"],[0.3333333333333333,\"#9c179e\"],[0.4444444444444444,\"#bd3786\"],[0.5555555555555556,\"#d8576b\"],[0.6666666666666666,\"#ed7953\"],[0.7777777777777778,\"#fb9f3a\"],[0.8888888888888888,\"#fdca26\"],[1.0,\"#f0f921\"]]}],\"surface\":[{\"type\":\"surface\",\"colorbar\":{\"outlinewidth\":0,\"ticks\":\"\"},\"colorscale\":[[0.0,\"#0d0887\"],[0.1111111111111111,\"#46039f\"],[0.2222222222222222,\"#7201a8\"],[0.3333333333333333,\"#9c179e\"],[0.4444444444444444,\"#bd3786\"],[0.5555555555555556,\"#d8576b\"],[0.6666666666666666,\"#ed7953\"],[0.7777777777777778,\"#fb9f3a\"],[0.8888888888888888,\"#fdca26\"],[1.0,\"#f0f921\"]]}],\"mesh3d\":[{\"type\":\"mesh3d\",\"colorbar\":{\"outlinewidth\":0,\"ticks\":\"\"}}],\"scatter\":[{\"fillpattern\":{\"fillmode\":\"overlay\",\"size\":10,\"solidity\":0.2},\"type\":\"scatter\"}],\"parcoords\":[{\"type\":\"parcoords\",\"line\":{\"colorbar\":{\"outlinewidth\":0,\"ticks\":\"\"}}}],\"scatterpolargl\":[{\"type\":\"scatterpolargl\",\"marker\":{\"colorbar\":{\"outlinewidth\":0,\"ticks\":\"\"}}}],\"bar\":[{\"error_x\":{\"color\":\"#2a3f5f\"},\"error_y\":{\"color\":\"#2a3f5f\"},\"marker\":{\"line\":{\"color\":\"#E5ECF6\",\"width\":0.5},\"pattern\":{\"fillmode\":\"overlay\",\"size\":10,\"solidity\":0.2}},\"type\":\"bar\"}],\"scattergeo\":[{\"type\":\"scattergeo\",\"marker\":{\"colorbar\":{\"outlinewidth\":0,\"ticks\":\"\"}}}],\"scatterpolar\":[{\"type\":\"scatterpolar\",\"marker\":{\"colorbar\":{\"outlinewidth\":0,\"ticks\":\"\"}}}],\"histogram\":[{\"marker\":{\"pattern\":{\"fillmode\":\"overlay\",\"size\":10,\"solidity\":0.2}},\"type\":\"histogram\"}],\"scattergl\":[{\"type\":\"scattergl\",\"marker\":{\"colorbar\":{\"outlinewidth\":0,\"ticks\":\"\"}}}],\"scatter3d\":[{\"type\":\"scatter3d\",\"line\":{\"colorbar\":{\"outlinewidth\":0,\"ticks\":\"\"}},\"marker\":{\"colorbar\":{\"outlinewidth\":0,\"ticks\":\"\"}}}],\"scattermapbox\":[{\"type\":\"scattermapbox\",\"marker\":{\"colorbar\":{\"outlinewidth\":0,\"ticks\":\"\"}}}],\"scatterternary\":[{\"type\":\"scatterternary\",\"marker\":{\"colorbar\":{\"outlinewidth\":0,\"ticks\":\"\"}}}],\"scattercarpet\":[{\"type\":\"scattercarpet\",\"marker\":{\"colorbar\":{\"outlinewidth\":0,\"ticks\":\"\"}}}],\"carpet\":[{\"aaxis\":{\"endlinecolor\":\"#2a3f5f\",\"gridcolor\":\"white\",\"linecolor\":\"white\",\"minorgridcolor\":\"white\",\"startlinecolor\":\"#2a3f5f\"},\"baxis\":{\"endlinecolor\":\"#2a3f5f\",\"gridcolor\":\"white\",\"linecolor\":\"white\",\"minorgridcolor\":\"white\",\"startlinecolor\":\"#2a3f5f\"},\"type\":\"carpet\"}],\"table\":[{\"cells\":{\"fill\":{\"color\":\"#EBF0F8\"},\"line\":{\"color\":\"white\"}},\"header\":{\"fill\":{\"color\":\"#C8D4E3\"},\"line\":{\"color\":\"white\"}},\"type\":\"table\"}],\"barpolar\":[{\"marker\":{\"line\":{\"color\":\"#E5ECF6\",\"width\":0.5},\"pattern\":{\"fillmode\":\"overlay\",\"size\":10,\"solidity\":0.2}},\"type\":\"barpolar\"}],\"pie\":[{\"automargin\":true,\"type\":\"pie\"}]},\"layout\":{\"autotypenumbers\":\"strict\",\"colorway\":[\"#636efa\",\"#EF553B\",\"#00cc96\",\"#ab63fa\",\"#FFA15A\",\"#19d3f3\",\"#FF6692\",\"#B6E880\",\"#FF97FF\",\"#FECB52\"],\"font\":{\"color\":\"#2a3f5f\"},\"hovermode\":\"closest\",\"hoverlabel\":{\"align\":\"left\"},\"paper_bgcolor\":\"white\",\"plot_bgcolor\":\"#E5ECF6\",\"polar\":{\"bgcolor\":\"#E5ECF6\",\"angularaxis\":{\"gridcolor\":\"white\",\"linecolor\":\"white\",\"ticks\":\"\"},\"radialaxis\":{\"gridcolor\":\"white\",\"linecolor\":\"white\",\"ticks\":\"\"}},\"ternary\":{\"bgcolor\":\"#E5ECF6\",\"aaxis\":{\"gridcolor\":\"white\",\"linecolor\":\"white\",\"ticks\":\"\"},\"baxis\":{\"gridcolor\":\"white\",\"linecolor\":\"white\",\"ticks\":\"\"},\"caxis\":{\"gridcolor\":\"white\",\"linecolor\":\"white\",\"ticks\":\"\"}},\"coloraxis\":{\"colorbar\":{\"outlinewidth\":0,\"ticks\":\"\"}},\"colorscale\":{\"sequential\":[[0.0,\"#0d0887\"],[0.1111111111111111,\"#46039f\"],[0.2222222222222222,\"#7201a8\"],[0.3333333333333333,\"#9c179e\"],[0.4444444444444444,\"#bd3786\"],[0.5555555555555556,\"#d8576b\"],[0.6666666666666666,\"#ed7953\"],[0.7777777777777778,\"#fb9f3a\"],[0.8888888888888888,\"#fdca26\"],[1.0,\"#f0f921\"]],\"sequentialminus\":[[0.0,\"#0d0887\"],[0.1111111111111111,\"#46039f\"],[0.2222222222222222,\"#7201a8\"],[0.3333333333333333,\"#9c179e\"],[0.4444444444444444,\"#bd3786\"],[0.5555555555555556,\"#d8576b\"],[0.6666666666666666,\"#ed7953\"],[0.7777777777777778,\"#fb9f3a\"],[0.8888888888888888,\"#fdca26\"],[1.0,\"#f0f921\"]],\"diverging\":[[0,\"#8e0152\"],[0.1,\"#c51b7d\"],[0.2,\"#de77ae\"],[0.3,\"#f1b6da\"],[0.4,\"#fde0ef\"],[0.5,\"#f7f7f7\"],[0.6,\"#e6f5d0\"],[0.7,\"#b8e186\"],[0.8,\"#7fbc41\"],[0.9,\"#4d9221\"],[1,\"#276419\"]]},\"xaxis\":{\"gridcolor\":\"white\",\"linecolor\":\"white\",\"ticks\":\"\",\"title\":{\"standoff\":15},\"zerolinecolor\":\"white\",\"automargin\":true,\"zerolinewidth\":2},\"yaxis\":{\"gridcolor\":\"white\",\"linecolor\":\"white\",\"ticks\":\"\",\"title\":{\"standoff\":15},\"zerolinecolor\":\"white\",\"automargin\":true,\"zerolinewidth\":2},\"scene\":{\"xaxis\":{\"backgroundcolor\":\"#E5ECF6\",\"gridcolor\":\"white\",\"linecolor\":\"white\",\"showbackground\":true,\"ticks\":\"\",\"zerolinecolor\":\"white\",\"gridwidth\":2},\"yaxis\":{\"backgroundcolor\":\"#E5ECF6\",\"gridcolor\":\"white\",\"linecolor\":\"white\",\"showbackground\":true,\"ticks\":\"\",\"zerolinecolor\":\"white\",\"gridwidth\":2},\"zaxis\":{\"backgroundcolor\":\"#E5ECF6\",\"gridcolor\":\"white\",\"linecolor\":\"white\",\"showbackground\":true,\"ticks\":\"\",\"zerolinecolor\":\"white\",\"gridwidth\":2}},\"shapedefaults\":{\"line\":{\"color\":\"#2a3f5f\"}},\"annotationdefaults\":{\"arrowcolor\":\"#2a3f5f\",\"arrowhead\":0,\"arrowwidth\":1},\"geo\":{\"bgcolor\":\"white\",\"landcolor\":\"#E5ECF6\",\"subunitcolor\":\"white\",\"showland\":true,\"showlakes\":true,\"lakecolor\":\"white\"},\"title\":{\"x\":0.05},\"mapbox\":{\"style\":\"light\"}}}},                        {\"responsive\": true}                    ).then(function(){\n",
       "                            \n",
       "var gd = document.getElementById('6625af4d-ac94-40cd-9d8a-abef86b70653');\n",
       "var x = new MutationObserver(function (mutations, observer) {{\n",
       "        var display = window.getComputedStyle(gd).display;\n",
       "        if (!display || display === 'none') {{\n",
       "            console.log([gd, 'removed!']);\n",
       "            Plotly.purge(gd);\n",
       "            observer.disconnect();\n",
       "        }}\n",
       "}});\n",
       "\n",
       "// Listen for the removal of the full notebook cells\n",
       "var notebookContainer = gd.closest('#notebook-container');\n",
       "if (notebookContainer) {{\n",
       "    x.observe(notebookContainer, {childList: true});\n",
       "}}\n",
       "\n",
       "// Listen for the clearing of the current output cell\n",
       "var outputEl = gd.closest('.output');\n",
       "if (outputEl) {{\n",
       "    x.observe(outputEl, {childList: true});\n",
       "}}\n",
       "\n",
       "                        })                };                });            </script>        </div>"
      ]
     },
     "metadata": {},
     "output_type": "display_data"
    }
   ],
   "source": [
    "import plotly.graph_objects as go\n",
    "import numpy as np\n",
    "\n",
    "\n",
    "# Generate a trace for ROC curve\n",
    "trace0 = go.Scatter(\n",
    "    x=tpr,\n",
    "    y=fpr,\n",
    "    mode='lines',\n",
    "    name='ROC curve'\n",
    ")\n",
    "\n",
    "# Only label every nth point to avoid cluttering\n",
    "n = 10  \n",
    "indices = np.arange(len(thresholds)) % n == 0  # Choose indices where index mod n is 0\n",
    "\n",
    "trace1 = go.Scatter(\n",
    "    x=tpr[indices], \n",
    "    y=fpr[indices], \n",
    "    mode='markers+text', \n",
    "    name='Threshold points', \n",
    "    text=[f\"Thr={thr:.2f}\" for thr in thresholds[indices]], \n",
    "    textposition='top center'\n",
    ")\n",
    "\n",
    "\n",
    "# Diagonal line\n",
    "trace2 = go.Scatter(\n",
    "    x=[0, 1], \n",
    "    y=[0, 1], \n",
    "    mode='lines', \n",
    "    name='Random (Area = 0.5)', \n",
    "    line=dict(dash='dash')\n",
    ")\n",
    "\n",
    "data = [trace0, trace1, trace2]\n",
    "\n",
    "# Define layout with square aspect ratio\n",
    "layout = go.Layout(\n",
    "    title='Receiver Operating Characteristic',\n",
    "    xaxis=dict(title='False Positive Rate'),\n",
    "    yaxis=dict(title='True Positive Rate'),\n",
    "    autosize=False,\n",
    "    width=800,\n",
    "    height=800,\n",
    "    showlegend=False\n",
    ")\n",
    "\n",
    "# Define figure and add data\n",
    "fig = go.Figure(data= data, layout=layout)\n",
    "\n",
    "# Show figure\n",
    "fig.show()"
   ]
  },
  {
   "cell_type": "code",
   "execution_count": null,
   "id": "047ba307",
   "metadata": {},
   "outputs": [],
   "source": []
  }
 ],
 "metadata": {
  "kernelspec": {
   "display_name": "Python 3",
   "language": "python",
   "name": "python3"
  },
  "language_info": {
   "codemirror_mode": {
    "name": "ipython",
    "version": 3
   },
   "file_extension": ".py",
   "mimetype": "text/x-python",
   "name": "python",
   "nbconvert_exporter": "python",
   "pygments_lexer": "ipython3",
   "version": "3.8.8"
  }
 },
 "nbformat": 4,
 "nbformat_minor": 5
}
