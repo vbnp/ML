{
 "cells": [
  {
   "cell_type": "code",
   "execution_count": 2,
   "id": "a6b607b5",
   "metadata": {},
   "outputs": [],
   "source": [
    "import pandas as pd\n",
    "import numpy as np\n",
    "import matplotlib.pyplot as plt\n",
    "from sklearn.datasets import make_regression\n",
    "from sklearn.model_selection import train_test_split\n",
    "from sklearn.metrics import r2_score,mean_squared_error\n",
    "from sklearn.linear_model import LinearRegression\n",
    "from sklearn.linear_model import Ridge,Lasso"
   ]
  },
  {
   "cell_type": "code",
   "execution_count": 3,
   "id": "624ec6e4",
   "metadata": {},
   "outputs": [],
   "source": [
    "x,y = make_regression(n_samples = 100,n_features=1,n_informative = 1,n_targets = 1, noise  = 20, random_state = 13)"
   ]
  },
  {
   "cell_type": "code",
   "execution_count": 5,
   "id": "cf15daff",
   "metadata": {},
   "outputs": [
    {
     "data": {
      "text/plain": [
       "<matplotlib.collections.PathCollection at 0x23d60b6e4f0>"
      ]
     },
     "execution_count": 5,
     "metadata": {},
     "output_type": "execute_result"
    },
    {
     "data": {
      "image/png": "[encoded data removed]",
      "text/plain": [
       "<Figure size 432x288 with 1 Axes>"
      ]
     },
     "metadata": {
      "needs_background": "light"
     },
     "output_type": "display_data"
    }
   ],
   "source": [
    "plt.scatter(x,y)"
   ]
  },
  {
   "cell_type": "code",
   "execution_count": 7,
   "id": "e958a93c",
   "metadata": {},
   "outputs": [],
   "source": [
    "x_train,x_test,y_train,y_test = train_test_split(x,y,test_size = 0.2)"
   ]
  },
  {
   "cell_type": "code",
   "execution_count": 9,
   "id": "aa47fa05",
   "metadata": {},
   "outputs": [
    {
     "name": "stdout",
     "output_type": "stream",
     "text": [
      "(80, 1) (20, 1)\n",
      "(80,) (20,)\n"
     ]
    }
   ],
   "source": [
    "print(x_train.shape,x_test.shape)\n",
    "print(y_train.shape,y_test.shape)"
   ]
  },
  {
   "cell_type": "code",
   "execution_count": 10,
   "id": "cb68b3df",
   "metadata": {},
   "outputs": [],
   "source": [
    "lr = LinearRegression()\n"
   ]
  },
  {
   "cell_type": "code",
   "execution_count": 11,
   "id": "8cbac5a8",
   "metadata": {},
   "outputs": [
    {
     "data": {
      "text/plain": [
       "LinearRegression()"
      ]
     },
     "execution_count": 11,
     "metadata": {},
     "output_type": "execute_result"
    }
   ],
   "source": [
    "lr.fit(x_train,y_train)"
   ]
  },
  {
   "cell_type": "code",
   "execution_count": 12,
   "id": "b5c9d220",
   "metadata": {},
   "outputs": [],
   "source": [
    "y_pred = lr.predict(x_test)"
   ]
  },
  {
   "cell_type": "code",
   "execution_count": 14,
   "id": "8925cd48",
   "metadata": {},
   "outputs": [
    {
     "data": {
      "text/plain": [
       "16.522516410148462"
      ]
     },
     "execution_count": 14,
     "metadata": {},
     "output_type": "execute_result"
    }
   ],
   "source": [
    "np.sqrt(mean_squared_error(y_test,y_pred))"
   ]
  },
  {
   "cell_type": "code",
   "execution_count": 15,
   "id": "d09f1832",
   "metadata": {},
   "outputs": [
    {
     "data": {
      "text/plain": [
       "0.7636473690999777"
      ]
     },
     "execution_count": 15,
     "metadata": {},
     "output_type": "execute_result"
    }
   ],
   "source": [
    "r2_score(y_test,y_pred)"
   ]
  },
  {
   "cell_type": "code",
   "execution_count": 16,
   "id": "208e9530",
   "metadata": {},
   "outputs": [
    {
     "data": {
      "text/plain": [
       "array([27.09916699])"
      ]
     },
     "execution_count": 16,
     "metadata": {},
     "output_type": "execute_result"
    }
   ],
   "source": [
    "lr.coef_"
   ]
  },
  {
   "cell_type": "code",
   "execution_count": 17,
   "id": "118dff70",
   "metadata": {},
   "outputs": [
    {
     "data": {
      "text/plain": [
       "-1.7618790898190366"
      ]
     },
     "execution_count": 17,
     "metadata": {},
     "output_type": "execute_result"
    }
   ],
   "source": [
    "lr.intercept_"
   ]
  },
  {
   "cell_type": "markdown",
   "id": "e75cca94",
   "metadata": {},
   "source": [
    "# from lasso regration"
   ]
  },
  {
   "cell_type": "code",
   "execution_count": 18,
   "id": "998106f6",
   "metadata": {},
   "outputs": [],
   "source": [
    "l = Lasso(alpha = 1)"
   ]
  },
  {
   "cell_type": "code",
   "execution_count": 19,
   "id": "2c3d46b6",
   "metadata": {},
   "outputs": [
    {
     "data": {
      "text/plain": [
       "Lasso(alpha=1)"
      ]
     },
     "execution_count": 19,
     "metadata": {},
     "output_type": "execute_result"
    }
   ],
   "source": [
    "l.fit(x_train,y_train)"
   ]
  },
  {
   "cell_type": "code",
   "execution_count": 20,
   "id": "bd715bf3",
   "metadata": {},
   "outputs": [
    {
     "data": {
      "text/plain": [
       "array([ 22.94844827, -10.35912173,  10.32576747,   7.57604298,\n",
       "        33.11222277, -22.18223336,  47.30163079,   4.42344837,\n",
       "       -34.42777436, -51.59458694, -27.13845012, -11.32920288,\n",
       "        12.84393715,  17.79067859,   3.05249726,  12.45713919,\n",
       "       -21.53564594,  34.51490916,  16.9667039 ,  32.72914785])"
      ]
     },
     "execution_count": 20,
     "metadata": {},
     "output_type": "execute_result"
    }
   ],
   "source": [
    "l.predict(x_test)"
   ]
  },
  {
   "cell_type": "code",
   "execution_count": 21,
   "id": "0a00feb4",
   "metadata": {},
   "outputs": [
    {
     "data": {
      "text/plain": [
       "0.7561227904490397"
      ]
     },
     "execution_count": 21,
     "metadata": {},
     "output_type": "execute_result"
    }
   ],
   "source": [
    "r2_score(y_test,l.predict(x_test))"
   ]
  },
  {
   "cell_type": "code",
   "execution_count": 22,
   "id": "4dad11d6",
   "metadata": {},
   "outputs": [
    {
     "data": {
      "text/plain": [
       "array([25.91007742])"
      ]
     },
     "execution_count": 22,
     "metadata": {},
     "output_type": "execute_result"
    }
   ],
   "source": [
    "l.coef_"
   ]
  },
  {
   "cell_type": "code",
   "execution_count": 23,
   "id": "a6770f91",
   "metadata": {},
   "outputs": [
    {
     "data": {
      "text/plain": [
       "-1.739466636173535"
      ]
     },
     "execution_count": 23,
     "metadata": {},
     "output_type": "execute_result"
    }
   ],
   "source": [
    "l.intercept_"
   ]
  },
  {
   "cell_type": "code",
   "execution_count": 69,
   "id": "eb20e6e4",
   "metadata": {},
   "outputs": [
    {
     "name": "stderr",
     "output_type": "stream",
     "text": [
      "<ipython-input-69-18b6220b3cda>:7: UserWarning: With alpha=0, this algorithm does not converge well. You are advised to use the LinearRegression estimator\n",
      "  l1.fit(x_train,y_train)\n",
      "C:\\Users\\vishal\\anaconda3\\lib\\site-packages\\sklearn\\linear_model\\_coordinate_descent.py:530: UserWarning: Coordinate descent with no regularization may lead to unexpected results and is discouraged.\n",
      "  model = cd_fast.enet_coordinate_descent(\n",
      "C:\\Users\\vishal\\anaconda3\\lib\\site-packages\\sklearn\\linear_model\\_coordinate_descent.py:530: ConvergenceWarning: Objective did not converge. You might want to increase the number of iterations. Duality gap: 11476.293286998072, tolerance: 7.23594520815131\n",
      "  model = cd_fast.enet_coordinate_descent(\n"
     ]
    },
    {
     "data": {
      "text/plain": [
       "<matplotlib.legend.Legend at 0x23d60b7dfd0>"
      ]
     },
     "execution_count": 69,
     "metadata": {},
     "output_type": "execute_result"
    },
    {
     "data": {
      "image/png": "[encoded data removed]",
      "text/plain": [
       "<Figure size 1440x720 with 1 Axes>"
      ]
     },
     "metadata": {
      "needs_background": "light"
     },
     "output_type": "display_data"
    }
   ],
   "source": [
    "# Now we can change the value of alpha and see the results\n",
    "plt.figure(figsize = (20,10))\n",
    "plt.scatter(x,y)\n",
    "alpha = [0,1,5,10,50,100]\n",
    "for  i in alpha:\n",
    "    l1 = Lasso(alpha = i)\n",
    "    l1.fit(x_train,y_train)\n",
    "    l1.predict(x_test)\n",
    "    plt.plot(x_test,l1.predict(x_test), label = 'alpha = {}'.format(i))\n",
    "    \n",
    "    r2_score(x_test,l1.predict(x_test))\n",
    "plt.legend()"
   ]
  },
  {
   "cell_type": "code",
   "execution_count": 56,
   "id": "d9727058",
   "metadata": {},
   "outputs": [
    {
     "data": {
      "text/plain": [
       "<matplotlib.collections.PathCollection at 0x23d620501c0>"
      ]
     },
     "execution_count": 56,
     "metadata": {},
     "output_type": "execute_result"
    },
    {
     "data": {
      "image/png": "[encoded data removed]",
      "text/plain": [
       "<Figure size 432x288 with 1 Axes>"
      ]
     },
     "metadata": {
      "needs_background": "light"
     },
     "output_type": "display_data"
    }
   ],
   "source": [
    "x1 = 5 * np.random.rand(100,1)-2\n",
    "y1 = 0.7 * x1**2 - 2*x1 + 3 + np.random.randn(100,1)\n",
    "\n",
    "plt.scatter(x1,y1)"
   ]
  },
  {
   "cell_type": "code",
   "execution_count": 57,
   "id": "cbba1d33",
   "metadata": {},
   "outputs": [],
   "source": [
    "from sklearn.pipeline import Pipeline\n",
    "from sklearn.preprocessing import PolynomialFeatures\n"
   ]
  },
  {
   "cell_type": "code",
   "execution_count": 58,
   "id": "b8f1bbcb",
   "metadata": {},
   "outputs": [],
   "source": [
    "x1_train,x1_test,y1_train,y1_test = train_test_split(x1,y1,test_size = 0.2)"
   ]
  },
  {
   "cell_type": "code",
   "execution_count": 89,
   "id": "808212e6",
   "metadata": {},
   "outputs": [
    {
     "name": "stderr",
     "output_type": "stream",
     "text": [
      "C:\\Users\\vishal\\anaconda3\\lib\\site-packages\\sklearn\\pipeline.py:346: UserWarning: With alpha=0, this algorithm does not converge well. You are advised to use the LinearRegression estimator\n",
      "  self._final_estimator.fit(Xt, y, **fit_params_last_step)\n",
      "C:\\Users\\vishal\\anaconda3\\lib\\site-packages\\sklearn\\linear_model\\_coordinate_descent.py:530: UserWarning: Coordinate descent with no regularization may lead to unexpected results and is discouraged.\n",
      "  model = cd_fast.enet_coordinate_descent(\n",
      "C:\\Users\\vishal\\anaconda3\\lib\\site-packages\\sklearn\\linear_model\\_coordinate_descent.py:530: ConvergenceWarning: Objective did not converge. You might want to increase the number of iterations. Duality gap: 306.08480329893496, tolerance: 0.06624413208932897\n",
      "  model = cd_fast.enet_coordinate_descent(\n",
      "C:\\Users\\vishal\\anaconda3\\lib\\site-packages\\sklearn\\linear_model\\_coordinate_descent.py:530: ConvergenceWarning: Objective did not converge. You might want to increase the number of iterations. Duality gap: 307.67897455570096, tolerance: 0.06624413208932897\n",
      "  model = cd_fast.enet_coordinate_descent(\n",
      "C:\\Users\\vishal\\anaconda3\\lib\\site-packages\\sklearn\\linear_model\\_coordinate_descent.py:530: ConvergenceWarning: Objective did not converge. You might want to increase the number of iterations. Duality gap: 306.5248820052284, tolerance: 0.06624413208932897\n",
      "  model = cd_fast.enet_coordinate_descent(\n"
     ]
    },
    {
     "data": {
      "image/png": "[encoded data removed]",
      "text/plain": [
       "<Figure size 720x432 with 1 Axes>"
      ]
     },
     "metadata": {
      "needs_background": "light"
     },
     "output_type": "display_data"
    }
   ],
   "source": [
    "from sklearn.pipeline import Pipeline\n",
    "from sklearn.preprocessing import PolynomialFeatures\n",
    "from sklearn.linear_model import Ridge\n",
    "\n",
    "def get_preds_lasso(x1, x2, alpha):\n",
    "    model = Pipeline([\n",
    "        ('poly_feats', PolynomialFeatures(degree=16)),\n",
    "        ('lasso', Lasso(alpha=alpha))\n",
    "    ])\n",
    "    model.fit(x1, x2)\n",
    "    return model.predict(x1)\n",
    "\n",
    "alphas = [0, 0.1, 1]\n",
    "cs = ['r', 'g', 'b']\n",
    "\n",
    "plt.figure(figsize=(10, 6))\n",
    "plt.plot(x1, x2, 'b+', label='Datapoints')\n",
    "\n",
    "for alpha, c in zip(alphas, cs):\n",
    "    preds = get_preds_lasso(x1, x2, alpha)\n",
    "    # Plot\n",
    "    plt.plot(sorted(x1[:, 0]), preds[np.argsort(x1[:, 0])], c, label='Alpha: {}'.format(alpha))\n",
    "\n",
    "plt.legend()\n",
    "plt.show()"
   ]
  },
  {
   "cell_type": "code",
   "execution_count": 70,
   "id": "8ccd71e2",
   "metadata": {},
   "outputs": [
    {
     "name": "stderr",
     "output_type": "stream",
     "text": [
      "C:\\Users\\vishal\\anaconda3\\lib\\site-packages\\sklearn\\linear_model\\_coordinate_descent.py:530: ConvergenceWarning: Objective did not converge. You might want to increase the number of iterations. Duality gap: 34601.54085477815, tolerance: 7.23594520815131\n",
      "  model = cd_fast.enet_coordinate_descent(\n"
     ]
    }
   ],
   "source": [
    "model = Lasso(alpha = 0.5)\n",
    "model.fit(x1_train,y_train)\n",
    "model.predict(x1_test)\n",
    "\n",
    "preds = get_preds_lasso(y1_test, model.predict(x1_test), 0.1)"
   ]
  },
  {
   "cell_type": "code",
   "execution_count": 71,
   "id": "e415a069",
   "metadata": {},
   "outputs": [
    {
     "data": {
      "text/plain": [
       "array([  1.61111999,   1.61882532,   1.73061358,   1.60817354,\n",
       "         1.62156339,   1.59956484, -12.04482548,   3.49703075,\n",
       "         1.6232876 ,   2.44163125,   1.62161614,   0.68756779,\n",
       "         3.51214993,   1.62543278,   1.62209466,   1.6220951 ,\n",
       "         1.88837941,  -0.22047739,   1.62182641,   1.81091164])"
      ]
     },
     "execution_count": 71,
     "metadata": {},
     "output_type": "execute_result"
    }
   ],
   "source": [
    "preds"
   ]
  },
  {
   "cell_type": "code",
   "execution_count": 76,
   "id": "e77d5764",
   "metadata": {},
   "outputs": [
    {
     "data": {
      "text/plain": [
       "(20, 1)"
      ]
     },
     "execution_count": 76,
     "metadata": {},
     "output_type": "execute_result"
    }
   ],
   "source": [
    "y1_test.shape"
   ]
  },
  {
   "cell_type": "code",
   "execution_count": 77,
   "id": "97676711",
   "metadata": {},
   "outputs": [
    {
     "data": {
      "text/plain": [
       "(20,)"
      ]
     },
     "execution_count": 77,
     "metadata": {},
     "output_type": "execute_result"
    }
   ],
   "source": [
    "model.predict(x1_test).shape"
   ]
  },
  {
   "cell_type": "code",
   "execution_count": 78,
   "id": "af673c47",
   "metadata": {},
   "outputs": [
    {
     "data": {
      "text/plain": [
       "(100, 1)"
      ]
     },
     "execution_count": 78,
     "metadata": {},
     "output_type": "execute_result"
    }
   ],
   "source": [
    "x1.shape"
   ]
  },
  {
   "cell_type": "code",
   "execution_count": 81,
   "id": "fb7d2df3",
   "metadata": {},
   "outputs": [
    {
     "data": {
      "text/plain": [
       "array([ 1.02973366,  0.87311142, -1.36881742,  1.06350477,  0.68012069,\n",
       "        1.13516464,  2.82683637, -1.89992144, -0.76564492, -1.73352091,\n",
       "        0.67035898,  1.87898944, -1.90158426, -0.87886972, -0.11776795,\n",
       "       -0.25370046, -1.52336684,  2.0644553 ,  0.61872321, -1.46278335])"
      ]
     },
     "execution_count": 81,
     "metadata": {},
     "output_type": "execute_result"
    }
   ],
   "source": [
    "x1_test[:, 0]"
   ]
  },
  {
   "cell_type": "markdown",
   "id": "d82c9a50",
   "metadata": {},
   "source": [
    "# Lasso Regraton"
   ]
  },
  {
   "cell_type": "code",
   "execution_count": 90,
   "id": "ede91c2c",
   "metadata": {},
   "outputs": [],
   "source": [
    "from sklearn.datasets import load_diabetes"
   ]
  },
  {
   "cell_type": "code",
   "execution_count": 91,
   "id": "95146898",
   "metadata": {},
   "outputs": [],
   "source": [
    "d  = load_diabetes()"
   ]
  },
  {
   "cell_type": "code",
   "execution_count": 92,
   "id": "98df87bf",
   "metadata": {},
   "outputs": [],
   "source": [
    "df = pd.DataFrame(d.data,columns = d.feature_names)"
   ]
  },
  {
   "cell_type": "code",
   "execution_count": 93,
   "id": "b078c4a7",
   "metadata": {},
   "outputs": [],
   "source": [
    "df['Target'] = d.target"
   ]
  },
  {
   "cell_type": "code",
   "execution_count": 94,
   "id": "b0880ccc",
   "metadata": {},
   "outputs": [
    {
     "data": {
      "text/html": [
       "<div>\n",
       "<style scoped>\n",
       "    .dataframe tbody tr th:only-of-type {\n",
       "        vertical-align: middle;\n",
       "    }\n",
       "\n",
       "    .dataframe tbody tr th {\n",
       "        vertical-align: top;\n",
       "    }\n",
       "\n",
       "    .dataframe thead th {\n",
       "        text-align: right;\n",
       "    }\n",
       "</style>\n",
       "<table border=\"1\" class=\"dataframe\">\n",
       "  <thead>\n",
       "    <tr style=\"text-align: right;\">\n",
       "      <th></th>\n",
       "      <th>age</th>\n",
       "      <th>sex</th>\n",
       "      <th>bmi</th>\n",
       "      <th>bp</th>\n",
       "      <th>s1</th>\n",
       "      <th>s2</th>\n",
       "      <th>s3</th>\n",
       "      <th>s4</th>\n",
       "      <th>s5</th>\n",
       "      <th>s6</th>\n",
       "      <th>Target</th>\n",
       "    </tr>\n",
       "  </thead>\n",
       "  <tbody>\n",
       "    <tr>\n",
       "      <th>0</th>\n",
       "      <td>0.038076</td>\n",
       "      <td>0.05068</td>\n",
       "      <td>0.061696</td>\n",
       "      <td>0.021872</td>\n",
       "      <td>-0.044223</td>\n",
       "      <td>-0.034821</td>\n",
       "      <td>-0.043401</td>\n",
       "      <td>-0.002592</td>\n",
       "      <td>0.019908</td>\n",
       "      <td>-0.017646</td>\n",
       "      <td>151.0</td>\n",
       "    </tr>\n",
       "  </tbody>\n",
       "</table>\n",
       "</div>"
      ],
      "text/plain": [
       "        age      sex       bmi        bp        s1        s2        s3  \\\n",
       "0  0.038076  0.05068  0.061696  0.021872 -0.044223 -0.034821 -0.043401   \n",
       "\n",
       "         s4        s5        s6  Target  \n",
       "0 -0.002592  0.019908 -0.017646   151.0  "
      ]
     },
     "execution_count": 94,
     "metadata": {},
     "output_type": "execute_result"
    }
   ],
   "source": [
    "df.head(1)"
   ]
  },
  {
   "cell_type": "code",
   "execution_count": 95,
   "id": "95c44b60",
   "metadata": {},
   "outputs": [
    {
     "data": {
      "text/plain": [
       "(442, 11)"
      ]
     },
     "execution_count": 95,
     "metadata": {},
     "output_type": "execute_result"
    }
   ],
   "source": [
    "df.shape"
   ]
  },
  {
   "cell_type": "code",
   "execution_count": 96,
   "id": "02f7d21a",
   "metadata": {},
   "outputs": [],
   "source": [
    "x2 = df.iloc[:,0:10]\n",
    "y2 = df.iloc[:,-1]"
   ]
  },
  {
   "cell_type": "code",
   "execution_count": 97,
   "id": "464023d7",
   "metadata": {},
   "outputs": [
    {
     "data": {
      "text/html": [
       "<div>\n",
       "<style scoped>\n",
       "    .dataframe tbody tr th:only-of-type {\n",
       "        vertical-align: middle;\n",
       "    }\n",
       "\n",
       "    .dataframe tbody tr th {\n",
       "        vertical-align: top;\n",
       "    }\n",
       "\n",
       "    .dataframe thead th {\n",
       "        text-align: right;\n",
       "    }\n",
       "</style>\n",
       "<table border=\"1\" class=\"dataframe\">\n",
       "  <thead>\n",
       "    <tr style=\"text-align: right;\">\n",
       "      <th></th>\n",
       "      <th>age</th>\n",
       "      <th>sex</th>\n",
       "      <th>bmi</th>\n",
       "      <th>bp</th>\n",
       "      <th>s1</th>\n",
       "      <th>s2</th>\n",
       "      <th>s3</th>\n",
       "      <th>s4</th>\n",
       "      <th>s5</th>\n",
       "      <th>s6</th>\n",
       "    </tr>\n",
       "  </thead>\n",
       "  <tbody>\n",
       "    <tr>\n",
       "      <th>0</th>\n",
       "      <td>0.038076</td>\n",
       "      <td>0.050680</td>\n",
       "      <td>0.061696</td>\n",
       "      <td>0.021872</td>\n",
       "      <td>-0.044223</td>\n",
       "      <td>-0.034821</td>\n",
       "      <td>-0.043401</td>\n",
       "      <td>-0.002592</td>\n",
       "      <td>0.019908</td>\n",
       "      <td>-0.017646</td>\n",
       "    </tr>\n",
       "    <tr>\n",
       "      <th>1</th>\n",
       "      <td>-0.001882</td>\n",
       "      <td>-0.044642</td>\n",
       "      <td>-0.051474</td>\n",
       "      <td>-0.026328</td>\n",
       "      <td>-0.008449</td>\n",
       "      <td>-0.019163</td>\n",
       "      <td>0.074412</td>\n",
       "      <td>-0.039493</td>\n",
       "      <td>-0.068330</td>\n",
       "      <td>-0.092204</td>\n",
       "    </tr>\n",
       "  </tbody>\n",
       "</table>\n",
       "</div>"
      ],
      "text/plain": [
       "        age       sex       bmi        bp        s1        s2        s3  \\\n",
       "0  0.038076  0.050680  0.061696  0.021872 -0.044223 -0.034821 -0.043401   \n",
       "1 -0.001882 -0.044642 -0.051474 -0.026328 -0.008449 -0.019163  0.074412   \n",
       "\n",
       "         s4        s5        s6  \n",
       "0 -0.002592  0.019908 -0.017646  \n",
       "1 -0.039493 -0.068330 -0.092204  "
      ]
     },
     "execution_count": 97,
     "metadata": {},
     "output_type": "execute_result"
    }
   ],
   "source": [
    "x2.head(2)"
   ]
  },
  {
   "cell_type": "code",
   "execution_count": 98,
   "id": "589cc70e",
   "metadata": {},
   "outputs": [
    {
     "data": {
      "text/plain": [
       "0    151.0\n",
       "1     75.0\n",
       "Name: Target, dtype: float64"
      ]
     },
     "execution_count": 98,
     "metadata": {},
     "output_type": "execute_result"
    }
   ],
   "source": [
    "y2.head(2)"
   ]
  },
  {
   "cell_type": "code",
   "execution_count": 99,
   "id": "9d72bcc0",
   "metadata": {},
   "outputs": [
    {
     "data": {
      "text/plain": [
       "(442, 10)"
      ]
     },
     "execution_count": 99,
     "metadata": {},
     "output_type": "execute_result"
    }
   ],
   "source": [
    "x2.shape"
   ]
  },
  {
   "cell_type": "code",
   "execution_count": 100,
   "id": "e27f6dc2",
   "metadata": {},
   "outputs": [
    {
     "data": {
      "text/plain": [
       "(442,)"
      ]
     },
     "execution_count": 100,
     "metadata": {},
     "output_type": "execute_result"
    }
   ],
   "source": [
    "y2.shape"
   ]
  },
  {
   "cell_type": "code",
   "execution_count": 102,
   "id": "61cb620b",
   "metadata": {},
   "outputs": [],
   "source": [
    "x2_train,x2_test,y2_train,y2_test = train_test_split(x2,y2,test_size = 0.2,random_state = 2)"
   ]
  },
  {
   "cell_type": "code",
   "execution_count": 104,
   "id": "bae80b1f",
   "metadata": {},
   "outputs": [
    {
     "name": "stdout",
     "output_type": "stream",
     "text": [
      "(353, 10) (89, 10) (353,) (89,)\n"
     ]
    }
   ],
   "source": [
    "print(x2_train.shape,x2_test.shape,y2_train.shape,y2_test.shape)"
   ]
  },
  {
   "cell_type": "code",
   "execution_count": 118,
   "id": "0c6d52cb",
   "metadata": {},
   "outputs": [
    {
     "name": "stdout",
     "output_type": "stream",
     "text": [
      "r2_score = 0.4399387660024644\n",
      "coefficient =  [  -9.16088483 -205.46225988  516.68462383  340.62734108 -895.54360867\n",
      "  561.21453306  153.88478595  126.73431596  861.12139955   52.41982836]\n",
      "intercept =  151.88334520854633\n",
      "MSE =  55.62759745954073\n"
     ]
    }
   ],
   "source": [
    "# Linear_regression\n",
    "lr2 = LinearRegression()\n",
    "lr2.fit(x2_train,y2_train)\n",
    "y2_pred  = lr2.predict(x2_test)\n",
    "print('r2_score =' ,r2_score(y2_test,y2_pred))\n",
    "print(\"coefficient = \",lr2.coef_)\n",
    "print(\"intercept = \",lr2.intercept_)\n",
    "print(\"MSE = \",np.sqrt(mean_squared_error(y2_test,y2_pred)))"
   ]
  },
  {
   "cell_type": "code",
   "execution_count": 120,
   "id": "ccb53288",
   "metadata": {},
   "outputs": [
    {
     "name": "stdout",
     "output_type": "stream",
     "text": [
      "r2_score = 0.4519973816947852\n",
      "coefficient =  [   6.64275308 -172.24216584  485.52387163  314.68212174  -72.93932312\n",
      "  -80.59005344 -174.46651489   83.61665316  484.36328537   73.58415414]\n",
      "intercept =  151.92548050708137\n",
      "MSE =  55.02548302426361\n"
     ]
    }
   ],
   "source": [
    "#Ridge\n",
    "reg = Ridge(alpha = 0.1)\n",
    "reg.fit(x2_train,y2_train)\n",
    "y2_reg_pred =reg.predict(x2_test)\n",
    "print('r2_score =' ,r2_score(y2_test,y2_reg_pred))\n",
    "print(\"coefficient = \",reg.coef_)\n",
    "print(\"intercept = \",reg.intercept_)\n",
    "print(\"MSE = \",np.sqrt(mean_squared_error(y2_test,y2_reg_pred)))\n"
   ]
  },
  {
   "cell_type": "code",
   "execution_count": 121,
   "id": "9becf7c0",
   "metadata": {},
   "outputs": [
    {
     "name": "stdout",
     "output_type": "stream",
     "text": [
      "r2_score = 0.4411227990495632\n",
      "coefficient =  [   6.64275308 -172.24216584  485.52387163  314.68212174  -72.93932312\n",
      "  -80.59005344 -174.46651489   83.61665316  484.36328537   73.58415414]\n",
      "intercept =  151.92548050708137\n",
      "MSE =  55.568764819424246\n"
     ]
    }
   ],
   "source": [
    "#lasso\n",
    "ls = Lasso(alpha = 0.01)\n",
    "ls.fit(x2_train,y2_train)\n",
    "y2_ls_pred = ls.predict(x2_test)\n",
    "print('r2_score =' ,r2_score(y2_test,y2_ls_pred))\n",
    "print(\"coefficient = \",reg.coef_)\n",
    "print(\"intercept = \",reg.intercept_)\n",
    "print(\"MSE = \",np.sqrt(mean_squared_error(y2_test,y2_ls_pred)))\n"
   ]
  },
  {
   "cell_type": "code",
   "execution_count": 122,
   "id": "cc22b6e9",
   "metadata": {},
   "outputs": [],
   "source": [
    "#elastcNet\n",
    "from sklearn.linear_model import ElasticNet"
   ]
  },
  {
   "cell_type": "code",
   "execution_count": 126,
   "id": "7903bc51",
   "metadata": {},
   "outputs": [],
   "source": [
    "en = ElasticNet(alpha = 0.005,l1_ratio = 0.9)"
   ]
  },
  {
   "cell_type": "code",
   "execution_count": 127,
   "id": "c320a7de",
   "metadata": {},
   "outputs": [
    {
     "data": {
      "text/plain": [
       "0.4531493801165679"
      ]
     },
     "execution_count": 127,
     "metadata": {},
     "output_type": "execute_result"
    }
   ],
   "source": [
    "en.fit(x2_train,y2_train)\n",
    "y2_en_pred = en.predict(x2_test)\n",
    "r2_score(y2_test,en.predict(x2_test))"
   ]
  },
  {
   "cell_type": "code",
   "execution_count": null,
   "id": "63f03bc0",
   "metadata": {},
   "outputs": [],
   "source": []
  }
 ],
 "metadata": {
  "kernelspec": {
   "display_name": "Python 3",
   "language": "python",
   "name": "python3"
  },
  "language_info": {
   "codemirror_mode": {
    "name": "ipython",
    "version": 3
   },
   "file_extension": ".py",
   "mimetype": "text/x-python",
   "name": "python",
   "nbconvert_exporter": "python",
   "pygments_lexer": "ipython3",
   "version": "3.8.8"
  }
 },
 "nbformat": 4,
 "nbformat_minor": 5
}
