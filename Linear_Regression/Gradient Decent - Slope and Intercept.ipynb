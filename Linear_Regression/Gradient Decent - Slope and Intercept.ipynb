{
 "cells": [
  {
   "cell_type": "code",
   "execution_count": 50,
   "id": "2eab161b",
   "metadata": {},
   "outputs": [],
   "source": [
    "import pandas as pd\n",
    "import numpy as np\n",
    "import matplotlib.pyplot as plt\n",
    "from sklearn.model_selection import train_test_split\n",
    "from sklearn.linear_model import LinearRegression"
   ]
  },
  {
   "cell_type": "code",
   "execution_count": 51,
   "id": "447c2b59",
   "metadata": {},
   "outputs": [],
   "source": [
    "from sklearn.datasets import make_regression"
   ]
  },
  {
   "cell_type": "code",
   "execution_count": 52,
   "id": "49302a75",
   "metadata": {},
   "outputs": [],
   "source": [
    "x,y = make_regression(n_samples = 100,n_features = 1,n_informative = 1, n_targets = 1, noise = 20) "
   ]
  },
  {
   "cell_type": "code",
   "execution_count": 53,
   "id": "dbee4e7d",
   "metadata": {},
   "outputs": [
    {
     "data": {
      "text/plain": [
       "<matplotlib.collections.PathCollection at 0x217ec7a7af0>"
      ]
     },
     "execution_count": 53,
     "metadata": {},
     "output_type": "execute_result"
    },
    {
     "data": {
      "image/png": "[encoded data removed]",
      "text/plain": [
       "<Figure size 432x288 with 1 Axes>"
      ]
     },
     "metadata": {
      "needs_background": "light"
     },
     "output_type": "display_data"
    }
   ],
   "source": [
    "plt.scatter(x,y)"
   ]
  },
  {
   "cell_type": "code",
   "execution_count": 54,
   "id": "ea68d09a",
   "metadata": {},
   "outputs": [],
   "source": [
    "lr = LinearRegression()"
   ]
  },
  {
   "cell_type": "code",
   "execution_count": 55,
   "id": "a5cd502b",
   "metadata": {},
   "outputs": [
    {
     "data": {
      "text/plain": [
       "LinearRegression()"
      ]
     },
     "execution_count": 55,
     "metadata": {},
     "output_type": "execute_result"
    }
   ],
   "source": [
    "lr.fit(x,y)"
   ]
  },
  {
   "cell_type": "code",
   "execution_count": 56,
   "id": "12e9147c",
   "metadata": {},
   "outputs": [
    {
     "data": {
      "text/plain": [
       "array([53.99417355])"
      ]
     },
     "execution_count": 56,
     "metadata": {},
     "output_type": "execute_result"
    }
   ],
   "source": [
    "lr.coef_"
   ]
  },
  {
   "cell_type": "code",
   "execution_count": 57,
   "id": "b0b2ec81",
   "metadata": {},
   "outputs": [
    {
     "data": {
      "text/plain": [
       "-2.1101652163034568"
      ]
     },
     "execution_count": 57,
     "metadata": {},
     "output_type": "execute_result"
    }
   ],
   "source": [
    "lr.intercept_"
   ]
  },
  {
   "cell_type": "code",
   "execution_count": 58,
   "id": "2491a717",
   "metadata": {},
   "outputs": [],
   "source": [
    "from sklearn.model_selection import cross_val_score"
   ]
  },
  {
   "cell_type": "code",
   "execution_count": 59,
   "id": "e8be9ec6",
   "metadata": {},
   "outputs": [
    {
     "data": {
      "text/plain": [
       "0.721901482914084"
      ]
     },
     "execution_count": 59,
     "metadata": {},
     "output_type": "execute_result"
    }
   ],
   "source": [
    "np.mean(cross_val_score(lr,x,y,scoring = 'r2',cv =10))"
   ]
  },
  {
   "cell_type": "code",
   "execution_count": 60,
   "id": "ce9faca2",
   "metadata": {},
   "outputs": [],
   "source": [
    "class GDRegressor:\n",
    "    \n",
    "    def __init__(self,learning_rate,epochs):\n",
    "        self.m = 100\n",
    "        self.b = -120\n",
    "        self.lr = learning_rate\n",
    "        self.epochs = epochs\n",
    "        \n",
    "    def fit(self,x,y):\n",
    "        # calculate the b using GD\n",
    "        for i in range(self.epochs):\n",
    "            loss_slope_b = -2*np.sum(y - self.m*x.ravel() - self.b)\n",
    "            loss_slope_m = -2*np.sum((y - self.m*x.ravel() - self.b)*x.ravel())\n",
    "            self.b = self.b -(self.lr * loss_slope_b)\n",
    "            self.b = self.m -(self.lr * loss_slope_m)\n",
    "            \n",
    "        print(self.m,self.b)\n",
    "            "
   ]
  },
  {
   "cell_type": "code",
   "execution_count": 89,
   "id": "00a95695",
   "metadata": {},
   "outputs": [],
   "source": [
    "# insert learning rate and epochs(no of iteration)\n",
    "gd = GDRegressor(0.009,100)"
   ]
  },
  {
   "cell_type": "code",
   "execution_count": 90,
   "id": "564d9832",
   "metadata": {},
   "outputs": [
    {
     "name": "stdout",
     "output_type": "stream",
     "text": [
      "100 30.435197968525102\n"
     ]
    }
   ],
   "source": [
    "gd.fit(x,y)"
   ]
  },
  {
   "cell_type": "code",
   "execution_count": null,
   "id": "0560bf49",
   "metadata": {},
   "outputs": [],
   "source": []
  }
 ],
 "metadata": {
  "kernelspec": {
   "display_name": "Python 3",
   "language": "python",
   "name": "python3"
  },
  "language_info": {
   "codemirror_mode": {
    "name": "ipython",
    "version": 3
   },
   "file_extension": ".py",
   "mimetype": "text/x-python",
   "name": "python",
   "nbconvert_exporter": "python",
   "pygments_lexer": "ipython3",
   "version": "3.8.8"
  }
 },
 "nbformat": 4,
 "nbformat_minor": 5
}
