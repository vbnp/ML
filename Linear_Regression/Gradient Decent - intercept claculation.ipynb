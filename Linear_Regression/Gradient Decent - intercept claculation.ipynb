{
 "cells": [
  {
   "cell_type": "code",
   "execution_count": 2,
   "id": "9124efe1",
   "metadata": {},
   "outputs": [],
   "source": [
    "import pandas as pd\n",
    "import numpy as np\n",
    "from sklearn.datasets import make_regression"
   ]
  },
  {
   "cell_type": "code",
   "execution_count": 6,
   "id": "c9af41f7",
   "metadata": {},
   "outputs": [],
   "source": [
    "x,y = make_regression(n_samples = 4, n_features = 1,n_informative = 1, n_targets = 1, noise =80,random_state = 13)"
   ]
  },
  {
   "cell_type": "code",
   "execution_count": 31,
   "id": "cc8466ad",
   "metadata": {},
   "outputs": [
    {
     "data": {
      "text/plain": [
       "array([-0.71239066,  0.45181234, -0.04450308,  0.75376638])"
      ]
     },
     "execution_count": 31,
     "metadata": {},
     "output_type": "execute_result"
    }
   ],
   "source": [
    "x.reshape(4)"
   ]
  },
  {
   "cell_type": "code",
   "execution_count": 32,
   "id": "806ef9e7",
   "metadata": {},
   "outputs": [
    {
     "data": {
      "text/plain": [
       "array([-0.71239066,  0.45181234, -0.04450308,  0.75376638])"
      ]
     },
     "execution_count": 32,
     "metadata": {},
     "output_type": "execute_result"
    }
   ],
   "source": [
    "x.ravel()"
   ]
  },
  {
   "cell_type": "code",
   "execution_count": 29,
   "id": "1127c2f1",
   "metadata": {},
   "outputs": [
    {
     "data": {
      "text/plain": [
       "array([  7.21786552,  16.04609925, -27.83756166, 144.36688189])"
      ]
     },
     "execution_count": 29,
     "metadata": {},
     "output_type": "execute_result"
    }
   ],
   "source": [
    "y"
   ]
  },
  {
   "cell_type": "code",
   "execution_count": 7,
   "id": "1d4481d3",
   "metadata": {},
   "outputs": [],
   "source": [
    "import matplotlib.pyplot as plt"
   ]
  },
  {
   "cell_type": "code",
   "execution_count": 8,
   "id": "4f17fa3c",
   "metadata": {},
   "outputs": [
    {
     "data": {
      "text/plain": [
       "<matplotlib.collections.PathCollection at 0x26828001100>"
      ]
     },
     "execution_count": 8,
     "metadata": {},
     "output_type": "execute_result"
    },
    {
     "data": {
      "image/png": "[encoded data removed]",
      "text/plain": [
       "<Figure size 432x288 with 1 Axes>"
      ]
     },
     "metadata": {
      "needs_background": "light"
     },
     "output_type": "display_data"
    }
   ],
   "source": [
    "plt.scatter(x,y)"
   ]
  },
  {
   "cell_type": "code",
   "execution_count": 9,
   "id": "6486a769",
   "metadata": {},
   "outputs": [],
   "source": [
    "#lets apply OLS\n",
    "from sklearn.linear_model import LinearRegression\n",
    "lr = LinearRegression()"
   ]
  },
  {
   "cell_type": "code",
   "execution_count": 10,
   "id": "f0cd1e88",
   "metadata": {},
   "outputs": [
    {
     "data": {
      "text/plain": [
       "LinearRegression()"
      ]
     },
     "execution_count": 10,
     "metadata": {},
     "output_type": "execute_result"
    }
   ],
   "source": [
    "lr.fit(x,y)"
   ]
  },
  {
   "cell_type": "code",
   "execution_count": 11,
   "id": "793a6f96",
   "metadata": {},
   "outputs": [
    {
     "data": {
      "text/plain": [
       "array([78.35063668])"
      ]
     },
     "execution_count": 11,
     "metadata": {},
     "output_type": "execute_result"
    }
   ],
   "source": [
    "lr.coef_"
   ]
  },
  {
   "cell_type": "code",
   "execution_count": 12,
   "id": "559bbf18",
   "metadata": {},
   "outputs": [
    {
     "data": {
      "text/plain": [
       "26.15963284313262"
      ]
     },
     "execution_count": 12,
     "metadata": {},
     "output_type": "execute_result"
    }
   ],
   "source": [
    "lr.intercept_"
   ]
  },
  {
   "cell_type": "code",
   "execution_count": 15,
   "id": "02d363be",
   "metadata": {},
   "outputs": [
    {
     "data": {
      "text/plain": [
       "array([-29.65662909,  61.55941724,  22.67278832,  85.21770852])"
      ]
     },
     "execution_count": 15,
     "metadata": {},
     "output_type": "execute_result"
    }
   ],
   "source": [
    "lr.predict(x)"
   ]
  },
  {
   "cell_type": "code",
   "execution_count": 14,
   "id": "b6b2fcd4",
   "metadata": {},
   "outputs": [
    {
     "data": {
      "text/plain": [
       "[<matplotlib.lines.Line2D at 0x2682860f460>]"
      ]
     },
     "execution_count": 14,
     "metadata": {},
     "output_type": "execute_result"
    },
    {
     "data": {
      "image/png": "[encoded data removed]",
      "text/plain": [
       "<Figure size 432x288 with 1 Axes>"
      ]
     },
     "metadata": {
      "needs_background": "light"
     },
     "output_type": "display_data"
    }
   ],
   "source": [
    "plt.scatter(x,y)\n",
    "plt.plot(x,lr.predict(x),color = 'red')"
   ]
  },
  {
   "cell_type": "code",
   "execution_count": 24,
   "id": "b4b240fa",
   "metadata": {},
   "outputs": [],
   "source": [
    "# Apply Gradient decent assuming m = 78.35 and starting value b = 0\n",
    "y_pred = ((78.35*x)+0)\n"
   ]
  },
  {
   "cell_type": "code",
   "execution_count": 25,
   "id": "13e7df86",
   "metadata": {},
   "outputs": [
    {
     "data": {
      "text/plain": [
       "array([[-55.81580837],\n",
       "       [ 35.39949674],\n",
       "       [ -3.48681619],\n",
       "       [ 59.05759577]])"
      ]
     },
     "execution_count": 25,
     "metadata": {},
     "output_type": "execute_result"
    }
   ],
   "source": [
    "y_pred"
   ]
  },
  {
   "cell_type": "code",
   "execution_count": 27,
   "id": "78f1f48e",
   "metadata": {},
   "outputs": [
    {
     "data": {
      "image/png": "[encoded data removed]",
      "text/plain": [
       "<Figure size 432x288 with 1 Axes>"
      ]
     },
     "metadata": {
      "needs_background": "light"
     },
     "output_type": "display_data"
    }
   ],
   "source": [
    "plt.scatter(x,y)\n",
    "plt.plot(x,lr.predict(x),color = 'red',label = 'OLS')\n",
    "plt.plot(x,y_pred,color = 'blue',label = 'GD at b =0')\n",
    "plt.legend()\n",
    "plt.show()"
   ]
  },
  {
   "cell_type": "code",
   "execution_count": 36,
   "id": "e328b754",
   "metadata": {},
   "outputs": [],
   "source": [
    "m =78.35\n",
    "b=0\n",
    "\n",
    "loss_slope = -2*np.sum(y-m*x.reshape(4)-b)"
   ]
  },
  {
   "cell_type": "code",
   "execution_count": 37,
   "id": "dfb4ce70",
   "metadata": {},
   "outputs": [
    {
     "data": {
      "text/plain": [
       "-209.27763408209216"
      ]
     },
     "execution_count": 37,
     "metadata": {},
     "output_type": "execute_result"
    }
   ],
   "source": [
    "loss_slope"
   ]
  },
  {
   "cell_type": "code",
   "execution_count": 38,
   "id": "0fb46c42",
   "metadata": {},
   "outputs": [],
   "source": [
    "# lets take learning rate(lear) = 0.1\n",
    "lear = 0.1\n",
    "step_size = loss_slope*lear"
   ]
  },
  {
   "cell_type": "code",
   "execution_count": 39,
   "id": "b1f35c50",
   "metadata": {},
   "outputs": [
    {
     "data": {
      "text/plain": [
       "-20.927763408209216"
      ]
     },
     "execution_count": 39,
     "metadata": {},
     "output_type": "execute_result"
    }
   ],
   "source": [
    "step_size"
   ]
  },
  {
   "cell_type": "code",
   "execution_count": 40,
   "id": "60af0a00",
   "metadata": {},
   "outputs": [],
   "source": [
    "# calculating the new intercept\n",
    "\n",
    "b = b - step_size\n"
   ]
  },
  {
   "cell_type": "code",
   "execution_count": 41,
   "id": "9d1b56dd",
   "metadata": {},
   "outputs": [
    {
     "data": {
      "text/plain": [
       "20.927763408209216"
      ]
     },
     "execution_count": 41,
     "metadata": {},
     "output_type": "execute_result"
    }
   ],
   "source": [
    "b"
   ]
  },
  {
   "cell_type": "code",
   "execution_count": 42,
   "id": "e08d58de",
   "metadata": {},
   "outputs": [],
   "source": [
    "y_pred1 = ((78.35*x)+b)"
   ]
  },
  {
   "cell_type": "code",
   "execution_count": 43,
   "id": "fc2fde66",
   "metadata": {},
   "outputs": [
    {
     "data": {
      "text/plain": [
       "array([[-34.88804496],\n",
       "       [ 56.32726015],\n",
       "       [ 17.44094722],\n",
       "       [ 79.98535918]])"
      ]
     },
     "execution_count": 43,
     "metadata": {},
     "output_type": "execute_result"
    }
   ],
   "source": [
    "y_pred1"
   ]
  },
  {
   "cell_type": "code",
   "execution_count": 57,
   "id": "fdb1ee3d",
   "metadata": {},
   "outputs": [
    {
     "data": {
      "image/png": "[encoded data removed]",
      "text/plain": [
       "<Figure size 432x288 with 1 Axes>"
      ]
     },
     "metadata": {
      "needs_background": "light"
     },
     "output_type": "display_data"
    }
   ],
   "source": [
    "plt.scatter(x,y)\n",
    "plt.plot(x,lr.predict(x),color = 'red',label = 'OLS')\n",
    "plt.plot(x,y_pred, color = 'blue', label = 'GD at b =0')\n",
    "plt.plot(x,y_pred1, color = 'green', label = 'GD at b =-20')\n",
    "plt.legend()\n",
    "plt.show()"
   ]
  },
  {
   "cell_type": "code",
   "execution_count": 58,
   "id": "48fc88ac",
   "metadata": {},
   "outputs": [],
   "source": [
    "#iiiteration= 2\n",
    "\n",
    "loss_slope = -2*np.sum(y-m*x.ravel() -b )"
   ]
  },
  {
   "cell_type": "code",
   "execution_count": 59,
   "id": "dd5e9fbd",
   "metadata": {},
   "outputs": [
    {
     "data": {
      "text/plain": [
       "-41.85552681641843"
      ]
     },
     "execution_count": 59,
     "metadata": {},
     "output_type": "execute_result"
    }
   ],
   "source": [
    "loss_slope"
   ]
  },
  {
   "cell_type": "code",
   "execution_count": 60,
   "id": "287ddd96",
   "metadata": {},
   "outputs": [],
   "source": [
    "step_size = loss_slope*lear"
   ]
  },
  {
   "cell_type": "code",
   "execution_count": 61,
   "id": "2d7bd568",
   "metadata": {},
   "outputs": [
    {
     "data": {
      "text/plain": [
       "-4.185552681641844"
      ]
     },
     "execution_count": 61,
     "metadata": {},
     "output_type": "execute_result"
    }
   ],
   "source": [
    "step_size"
   ]
  },
  {
   "cell_type": "code",
   "execution_count": 62,
   "id": "218cde19",
   "metadata": {},
   "outputs": [],
   "source": [
    "# ccalculate new intercepr\n",
    "b = b - step_size"
   ]
  },
  {
   "cell_type": "code",
   "execution_count": 63,
   "id": "025ae000",
   "metadata": {},
   "outputs": [
    {
     "data": {
      "text/plain": [
       "25.11331608985106"
      ]
     },
     "execution_count": 63,
     "metadata": {},
     "output_type": "execute_result"
    }
   ],
   "source": [
    "b"
   ]
  },
  {
   "cell_type": "code",
   "execution_count": 64,
   "id": "5000b530",
   "metadata": {},
   "outputs": [],
   "source": [
    "y_pred2 = ((78.35)*x + b)"
   ]
  },
  {
   "cell_type": "code",
   "execution_count": 65,
   "id": "4d53f722",
   "metadata": {},
   "outputs": [
    {
     "data": {
      "text/plain": [
       "array([[-30.70249228],\n",
       "       [ 60.51281283],\n",
       "       [ 21.6264999 ],\n",
       "       [ 84.17091186]])"
      ]
     },
     "execution_count": 65,
     "metadata": {},
     "output_type": "execute_result"
    }
   ],
   "source": [
    "y_pred2"
   ]
  },
  {
   "cell_type": "code",
   "execution_count": 68,
   "id": "ca7312b9",
   "metadata": {},
   "outputs": [
    {
     "data": {
      "image/png": "[encoded data removed]",
      "text/plain": [
       "<Figure size 432x288 with 1 Axes>"
      ]
     },
     "metadata": {
      "needs_background": "light"
     },
     "output_type": "display_data"
    }
   ],
   "source": [
    "plt.scatter(x,y)\n",
    "plt.plot(x,lr.predict(x),color = 'red',label = 'OLS')\n",
    "plt.plot(x,y_pred, color = 'yellow', label = 'GD at b =0')\n",
    "plt.plot(x,y_pred1, color = 'green', label = 'GD at b =-20')\n",
    "plt.plot(x,y_pred2, color = 'blue', label = 'GD at b= 25')\n",
    "plt.legend()\n",
    "plt.show()\n"
   ]
  },
  {
   "cell_type": "code",
   "execution_count": 69,
   "id": "891f1bd2",
   "metadata": {},
   "outputs": [
    {
     "data": {
      "text/plain": [
       "-8.371105363283675"
      ]
     },
     "execution_count": 69,
     "metadata": {},
     "output_type": "execute_result"
    }
   ],
   "source": [
    "# Iteraton 3\n",
    "\n",
    "loss_slope = -2*np.sum(y-m*x.ravel()-b)\n",
    "loss_slope"
   ]
  },
  {
   "cell_type": "code",
   "execution_count": 70,
   "id": "6c70b7ca",
   "metadata": {},
   "outputs": [],
   "source": [
    "step_size = loss_slope * lear"
   ]
  },
  {
   "cell_type": "code",
   "execution_count": 71,
   "id": "eea726f8",
   "metadata": {},
   "outputs": [
    {
     "data": {
      "text/plain": [
       "-0.8371105363283675"
      ]
     },
     "execution_count": 71,
     "metadata": {},
     "output_type": "execute_result"
    }
   ],
   "source": [
    "step_size"
   ]
  },
  {
   "cell_type": "code",
   "execution_count": 72,
   "id": "b7ae4985",
   "metadata": {},
   "outputs": [],
   "source": [
    "b = b - step_size"
   ]
  },
  {
   "cell_type": "code",
   "execution_count": 73,
   "id": "f972badb",
   "metadata": {},
   "outputs": [
    {
     "data": {
      "text/plain": [
       "25.95042662617943"
      ]
     },
     "execution_count": 73,
     "metadata": {},
     "output_type": "execute_result"
    }
   ],
   "source": [
    "b"
   ]
  },
  {
   "cell_type": "code",
   "execution_count": 74,
   "id": "85073c02",
   "metadata": {},
   "outputs": [],
   "source": [
    "y_pred3=  ((78.35)*x + b)"
   ]
  },
  {
   "cell_type": "code",
   "execution_count": 76,
   "id": "baa57966",
   "metadata": {},
   "outputs": [
    {
     "data": {
      "image/png": "[encoded data removed]",
      "text/plain": [
       "<Figure size 432x288 with 1 Axes>"
      ]
     },
     "metadata": {
      "needs_background": "light"
     },
     "output_type": "display_data"
    }
   ],
   "source": [
    "plt.scatter(x,y)\n",
    "plt.plot(x,lr.predict(x),color = 'red',label = 'OLS')\n",
    "plt.plot(x,y_pred, color = 'yellow', label = 'GD at b =0')\n",
    "plt.plot(x,y_pred1, color = 'green', label = 'GD at b =-20')\n",
    "plt.plot(x,y_pred2, color = 'orange', label = 'GD at b= 25')\n",
    "plt.plot(x,y_pred3, color = 'blue', label = 'GD at b= 25')\n",
    "plt.legend()\n",
    "plt.show()\n"
   ]
  },
  {
   "cell_type": "markdown",
   "id": "81e78954",
   "metadata": {},
   "source": [
    "# for iteration we need to apply loop"
   ]
  },
  {
   "cell_type": "code",
   "execution_count": 78,
   "id": "716b955f",
   "metadata": {},
   "outputs": [
    {
     "ename": "NameError",
     "evalue": "name 'slope' is not defined",
     "output_type": "error",
     "traceback": [
      "\u001b[1;31m---------------------------------------------------------------------------\u001b[0m",
      "\u001b[1;31mNameError\u001b[0m                                 Traceback (most recent call last)",
      "\u001b[1;32m<ipython-input-78-925c9c22ee66>\u001b[0m in \u001b[0;36m<module>\u001b[1;34m\u001b[0m\n\u001b[0;32m      6\u001b[0m \u001b[1;32mfor\u001b[0m \u001b[0mi\u001b[0m \u001b[1;32min\u001b[0m \u001b[0mrange\u001b[0m\u001b[1;33m(\u001b[0m\u001b[0mepochs\u001b[0m\u001b[1;33m)\u001b[0m\u001b[1;33m:\u001b[0m\u001b[1;33m\u001b[0m\u001b[1;33m\u001b[0m\u001b[0m\n\u001b[0;32m      7\u001b[0m     \u001b[0mloss_slope\u001b[0m \u001b[1;33m=\u001b[0m \u001b[1;33m-\u001b[0m\u001b[1;36m2\u001b[0m \u001b[1;33m*\u001b[0m \u001b[0mnp\u001b[0m\u001b[1;33m.\u001b[0m\u001b[0msum\u001b[0m\u001b[1;33m(\u001b[0m\u001b[0my\u001b[0m \u001b[1;33m-\u001b[0m \u001b[0mm\u001b[0m\u001b[1;33m*\u001b[0m\u001b[0mx\u001b[0m\u001b[1;33m.\u001b[0m\u001b[0mravel\u001b[0m\u001b[1;33m(\u001b[0m\u001b[1;33m)\u001b[0m \u001b[1;33m-\u001b[0m \u001b[0mb\u001b[0m\u001b[1;33m)\u001b[0m\u001b[1;33m\u001b[0m\u001b[1;33m\u001b[0m\u001b[0m\n\u001b[1;32m----> 8\u001b[1;33m     \u001b[0mstep_size\u001b[0m \u001b[1;33m=\u001b[0m \u001b[0mlear\u001b[0m\u001b[1;33m*\u001b[0m\u001b[0mslope\u001b[0m\u001b[1;33m\u001b[0m\u001b[1;33m\u001b[0m\u001b[0m\n\u001b[0m\u001b[0;32m      9\u001b[0m     \u001b[0mb\u001b[0m \u001b[1;33m=\u001b[0m \u001b[0mb\u001b[0m \u001b[1;33m-\u001b[0m \u001b[1;33m(\u001b[0m\u001b[0mlear\u001b[0m\u001b[1;33m*\u001b[0m\u001b[0mloss_slope\u001b[0m\u001b[1;33m)\u001b[0m\u001b[1;33m\u001b[0m\u001b[1;33m\u001b[0m\u001b[0m\n\u001b[0;32m     10\u001b[0m     \u001b[0my_pred\u001b[0m \u001b[1;33m=\u001b[0m \u001b[0mm\u001b[0m\u001b[1;33m*\u001b[0m\u001b[0mx\u001b[0m \u001b[1;33m+\u001b[0m\u001b[0mb\u001b[0m\u001b[1;33m\u001b[0m\u001b[1;33m\u001b[0m\u001b[0m\n",
      "\u001b[1;31mNameError\u001b[0m: name 'slope' is not defined"
     ]
    }
   ],
   "source": [
    "b= -100\n",
    "m = 78.35\n",
    "\n",
    "epochs = 50\n",
    "\n",
    "for i in range(epochs):\n",
    "    loss_slope = -2 * np.sum(y - m*x.ravel() - b)\n",
    "    step_size = lear*slope\n",
    "    b = b - (lear*loss_slope)\n",
    "    y_pred = m*x +b\n",
    "    plt.plot(x,y_pred, label = b)\n",
    "plt.scatter(x,y)\n",
    "plt.plot()\n",
    "plt.label()"
   ]
  },
  {
   "cell_type": "code",
   "execution_count": null,
   "id": "b57bb0cd",
   "metadata": {},
   "outputs": [],
   "source": []
  }
 ],
 "metadata": {
  "kernelspec": {
   "display_name": "Python 3",
   "language": "python",
   "name": "python3"
  },
  "language_info": {
   "codemirror_mode": {
    "name": "ipython",
    "version": 3
   },
   "file_extension": ".py",
   "mimetype": "text/x-python",
   "name": "python",
   "nbconvert_exporter": "python",
   "pygments_lexer": "ipython3",
   "version": "3.8.8"
  }
 },
 "nbformat": 4,
 "nbformat_minor": 5
}
